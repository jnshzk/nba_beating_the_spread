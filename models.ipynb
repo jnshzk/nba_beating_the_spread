{
 "cells": [
  {
   "cell_type": "code",
   "execution_count": 158,
   "id": "51e7848f",
   "metadata": {},
   "outputs": [],
   "source": [
    "import random\n",
    "import pandas as pd\n",
    "import numpy as np\n",
    "from tqdm import tqdm\n",
    "import sqlite3\n",
    "from matplotlib import pyplot as plt\n",
    "from datetime import datetime, timedelta\n",
    "from collections import defaultdict\n",
    "import seaborn as sns\n",
    "\n",
    "from sklearn.model_selection import cross_val_score\n",
    "from sklearn.model_selection import RandomizedSearchCV\n",
    "from sklearn.ensemble import RandomForestRegressor"
   ]
  },
  {
   "cell_type": "code",
   "execution_count": 159,
   "id": "5390600f",
   "metadata": {},
   "outputs": [],
   "source": [
    "#read in dataset\n",
    "df = pd.read_csv('moving_average_df.csv')"
   ]
  },
  {
   "cell_type": "code",
   "execution_count": 160,
   "id": "bb4974bc",
   "metadata": {},
   "outputs": [
    {
     "data": {
      "text/html": [
       "<div>\n",
       "<style scoped>\n",
       "    .dataframe tbody tr th:only-of-type {\n",
       "        vertical-align: middle;\n",
       "    }\n",
       "\n",
       "    .dataframe tbody tr th {\n",
       "        vertical-align: top;\n",
       "    }\n",
       "\n",
       "    .dataframe thead th {\n",
       "        text-align: right;\n",
       "    }\n",
       "</style>\n",
       "<table border=\"1\" class=\"dataframe\">\n",
       "  <thead>\n",
       "    <tr style=\"text-align: right;\">\n",
       "      <th></th>\n",
       "      <th>GAME_ID</th>\n",
       "      <th>GM_DATE</th>\n",
       "      <th>TEAM_ID_HOME</th>\n",
       "      <th>HOME_TEAM</th>\n",
       "      <th>SPREAD</th>\n",
       "    </tr>\n",
       "  </thead>\n",
       "  <tbody>\n",
       "    <tr>\n",
       "      <th>0</th>\n",
       "      <td>42100404</td>\n",
       "      <td>2022-06-10</td>\n",
       "      <td>1610612738</td>\n",
       "      <td>Boston</td>\n",
       "      <td>-10</td>\n",
       "    </tr>\n",
       "    <tr>\n",
       "      <th>1</th>\n",
       "      <td>42100403</td>\n",
       "      <td>2022-06-08</td>\n",
       "      <td>1610612738</td>\n",
       "      <td>Boston</td>\n",
       "      <td>16</td>\n",
       "    </tr>\n",
       "    <tr>\n",
       "      <th>2</th>\n",
       "      <td>42100402</td>\n",
       "      <td>2022-06-05</td>\n",
       "      <td>1610612744</td>\n",
       "      <td>Golden State</td>\n",
       "      <td>19</td>\n",
       "    </tr>\n",
       "    <tr>\n",
       "      <th>3</th>\n",
       "      <td>42100401</td>\n",
       "      <td>2022-06-02</td>\n",
       "      <td>1610612744</td>\n",
       "      <td>Golden State</td>\n",
       "      <td>-12</td>\n",
       "    </tr>\n",
       "    <tr>\n",
       "      <th>4</th>\n",
       "      <td>42100307</td>\n",
       "      <td>2022-05-29</td>\n",
       "      <td>1610612748</td>\n",
       "      <td>Miami</td>\n",
       "      <td>-4</td>\n",
       "    </tr>\n",
       "  </tbody>\n",
       "</table>\n",
       "</div>"
      ],
      "text/plain": [
       "    GAME_ID     GM_DATE  TEAM_ID_HOME     HOME_TEAM  SPREAD\n",
       "0  42100404  2022-06-10    1610612738        Boston     -10\n",
       "1  42100403  2022-06-08    1610612738        Boston      16\n",
       "2  42100402  2022-06-05    1610612744  Golden State      19\n",
       "3  42100401  2022-06-02    1610612744  Golden State     -12\n",
       "4  42100307  2022-05-29    1610612748         Miami      -4"
      ]
     },
     "execution_count": 160,
     "metadata": {},
     "output_type": "execute_result"
    }
   ],
   "source": [
    "#create test set and create test_spreads_df for model evaluation\n",
    "test_seasons = ['2021-22', '2020-21', '2019-20', '2018-19', '2017-18']\n",
    "test_df = df[df['SEASON'].isin(test_seasons)].copy()\n",
    "test_spreads_df = test_df[['GAME_ID','GAME_DATE','TEAM_ID_HOME','TEAM_CITY_HOME','SPREAD']].copy()\n",
    "test_spreads_df['TEAM_CITY_HOME'] = test_spreads_df['TEAM_CITY_HOME'].map({'LA':'L.A. Clippers', \n",
    "                                                                           'Los Angeles':'L.A. Lakers',\n",
    "                                                                           'Boston': 'Boston',\n",
    "                                                                           'Golden State': 'Golden State',\n",
    "                                                                           'Miami': 'Miami',\n",
    "                                                                           'Dallas':'Dallas',\n",
    "                                                                           'Phoenix':'Phoenix',\n",
    "                                                                           'Milwaukee':'Milwaukee',\n",
    "                                                                           'Philadelphia':'Philadelphia',\n",
    "                                                                           'Memphis':'Memphis',\n",
    "                                                                           'Minnesota':'Minnesota',\n",
    "                                                                           'Utah':'Utah',\n",
    "                                                                           'New Orleans':'New Orleans',\n",
    "                                                                           'Toronto':'Toronto',\n",
    "                                                                           'Brooklyn':'Brooklyn',\n",
    "                                                                           'Atlanta':'Atlanta',\n",
    "                                                                           'Denver':'Denver',\n",
    "                                                                           'Chicago':'Chicago',\n",
    "                                                                           'Houston':'Houston',\n",
    "                                                                           'Portland':'Portland',\n",
    "                                                                           'Cleveland':'Cleveland',\n",
    "                                                                           'Charlotte':'Charlotte',\n",
    "                                                                           'Orlando':'Orlando',\n",
    "                                                                           'New York':'New York',\n",
    "                                                                           'San Antonio':'San Antonio',\n",
    "                                                                           'Washington':'Washington',\n",
    "                                                                           'Detroit':'Detroit',\n",
    "                                                                           'Sacramento':'Sacramento',\n",
    "                                                                           'Oklahoma City':'Oklahoma City',\n",
    "                                                                           'Indiana':'Indiana'\n",
    "                                                                          })\n",
    "test_spreads_df.rename(columns={'TEAM_CITY_HOME':'HOME_TEAM', 'GAME_DATE':'GM_DATE'}, inplace=True)\n",
    "test_spreads_df.head()"
   ]
  },
  {
   "cell_type": "code",
   "execution_count": 161,
   "id": "533c6a2a",
   "metadata": {},
   "outputs": [],
   "source": [
    "#create training dataset\n",
    "train_df = df[df['SEASON'].isin(test_seasons)==False].copy()"
   ]
  },
  {
   "cell_type": "code",
   "execution_count": 162,
   "id": "e75a5fd5",
   "metadata": {},
   "outputs": [],
   "source": [
    "#drop unnecessary columns\n",
    "test_df.drop(columns=['Unnamed: 0',\n",
    "                 'TEAM_ID_HOME',\n",
    "                 'GAME_ID',\n",
    "                 'GAME_DATE',\n",
    "                 'TEAM_CITY_HOME',\n",
    "                 'TEAM_ID_AWAY',\n",
    "                 'TEAM_CITY_AWAY'], inplace=True)\n",
    "train_df.drop(columns=['Unnamed: 0',\n",
    "                 'TEAM_ID_HOME',\n",
    "                 'GAME_ID',\n",
    "                 'GAME_DATE',\n",
    "                 'TEAM_CITY_HOME',\n",
    "                 'TEAM_ID_AWAY',\n",
    "                 'TEAM_CITY_AWAY'], inplace=True)"
   ]
  },
  {
   "cell_type": "code",
   "execution_count": 163,
   "id": "999560e3",
   "metadata": {},
   "outputs": [],
   "source": [
    "#separate spread actuals from training and testing data\n",
    "X_train = train_df.drop(columns=['SPREAD','SEASON'])\n",
    "y_train = train_df['SPREAD']\n",
    "X_test = test_df.drop(columns=['SPREAD', 'SEASON'])\n",
    "y_test = test_df['SPREAD']"
   ]
  },
  {
   "cell_type": "code",
   "execution_count": 93,
   "id": "e9619076",
   "metadata": {},
   "outputs": [
    {
     "name": "stdout",
     "output_type": "stream",
     "text": [
      "Random Forest baseline scores:  [0.12432072 0.1421674  0.15611194 0.09194101 0.09459742]\n",
      "Random Forest baseline avg. score:  0.12182769883607354\n"
     ]
    }
   ],
   "source": [
    "#Random Forrest implementation\n",
    "#Baseline RF CV results\n",
    "rf = RandomForestRegressor()\n",
    "rf_baseline_score = cross_val_score(rf, X_train, y_train, cv=5)\n",
    "print('Random Forest baseline CV scores: ', rf_baseline_score)\n",
    "print('Random Forest baseline avg. CV score: ', rf_baseline_score.mean())"
   ]
  },
  {
   "cell_type": "code",
   "execution_count": 164,
   "id": "43dfd27d",
   "metadata": {},
   "outputs": [
    {
     "data": {
      "text/plain": [
       "RandomForestRegressor()"
      ]
     },
     "execution_count": 164,
     "metadata": {},
     "output_type": "execute_result"
    }
   ],
   "source": [
    "#train baseline random forest\n",
    "rf = RandomForestRegressor()\n",
    "rf.fit(X_train, y_train)"
   ]
  },
  {
   "cell_type": "code",
   "execution_count": 165,
   "id": "08dd3712",
   "metadata": {},
   "outputs": [],
   "source": [
    "#import betting spreads data\n",
    "spreads_df = pd.read_csv('spreads_df.csv')\n",
    "spreads_df.drop(columns=['Unnamed: 0'], inplace=True)"
   ]
  },
  {
   "cell_type": "code",
   "execution_count": 166,
   "id": "4d284b78",
   "metadata": {},
   "outputs": [],
   "source": [
    "def convert_to_float(frac_str):\n",
    "    try:\n",
    "        return float(frac_str)\n",
    "    except ValueError:\n",
    "        output = frac_str[:-1]\n",
    "        \n",
    "        if output=='+':\n",
    "            return 0.5\n",
    "        elif output=='-':\n",
    "            return -0.5\n",
    "        \n",
    "        if output[0]=='-':\n",
    "            output = float(output) - 0.5\n",
    "        elif output[0]=='+':\n",
    "            output = float(output) + 0.5\n",
    "        return output"
   ]
  },
  {
   "cell_type": "code",
   "execution_count": 167,
   "id": "0276eece",
   "metadata": {},
   "outputs": [],
   "source": [
    "def calc_bet_winning_percentages(df):\n",
    "    spread_wl_1 = []\n",
    "    spread_wl_2 = []\n",
    "    spread_wl_4 = []\n",
    "    for row in df.iterrows():\n",
    "        row = row[1]\n",
    "        if row['SPREADS_PRED'] > row['SPREAD_1']:\n",
    "            if row['SPREAD'] > row['SPREAD_1']:\n",
    "                spread_wl_1.append(1)\n",
    "            elif row['SPREAD'] < row['SPREAD_1']:\n",
    "                spread_wl_1.append(0)\n",
    "                \n",
    "        elif row['SPREADS_PRED'] < row['SPREAD_1']:\n",
    "            if row['SPREAD'] < row['SPREAD_1']:\n",
    "                spread_wl_1.append(1)\n",
    "            elif row['SPREAD'] > row['SPREAD_1']:\n",
    "                spread_wl_1.append(0)\n",
    "                \n",
    "        if row['SPREADS_PRED'] > row['SPREAD_2']:\n",
    "            if row['SPREAD'] > row['SPREAD_2']:\n",
    "                spread_wl_2.append(1)\n",
    "            elif row['SPREAD'] < row['SPREAD_2']:\n",
    "                spread_wl_2.append(0)\n",
    "                \n",
    "        elif row['SPREADS_PRED'] < row['SPREAD_2']:\n",
    "            if row['SPREAD'] < row['SPREAD_2']:\n",
    "                spread_wl_2.append(1)\n",
    "            elif row['SPREAD'] > row['SPREAD_2']:\n",
    "                spread_wl_2.append(0)\n",
    "                \n",
    "        if row['SPREADS_PRED'] > row['SPREAD_4']:\n",
    "            if row['SPREAD'] > row['SPREAD_4']:\n",
    "                spread_wl_4.append(1)\n",
    "            elif row['SPREAD'] < row['SPREAD_4']:\n",
    "                spread_wl_4.append(0)\n",
    "                \n",
    "        elif row['SPREADS_PRED'] < row['SPREAD_4']:\n",
    "            if row['SPREAD'] < row['SPREAD_4']:\n",
    "                spread_wl_4.append(1)\n",
    "            elif row['SPREAD'] > row['SPREAD_4']:\n",
    "                spread_wl_4.append(0)  \n",
    "                \n",
    "    spread_1_winning_percentage = sum(spread_wl_1) / len(spread_wl_1)\n",
    "    spread_2_winning_percentage = sum(spread_wl_2) / len(spread_wl_2)\n",
    "    spread_4_winning_percentage = sum(spread_wl_4) / len(spread_wl_4)\n",
    "    \n",
    "    return spread_1_winning_percentage, spread_2_winning_percentage, spread_4_winning_percentage\n"
   ]
  },
  {
   "cell_type": "code",
   "execution_count": 170,
   "id": "3a08a755",
   "metadata": {},
   "outputs": [],
   "source": [
    "def eval_model(model):\n",
    "    #create df of actual spreads, predicted spreads, and betting spreads\n",
    "    spread_eval_df = test_spreads_df.copy()\n",
    "    spread_eval_df['SPREADS_PRED'] = model.predict(X_test)\n",
    "    spread_eval_df = spread_eval_df.merge(spreads_df, how='inner', on=['HOME_TEAM','GM_DATE'])\n",
    "    \n",
    "    #convert betting spreads to floats\n",
    "    spread_eval_df['SPREAD_1'] = spread_eval_df['SPREAD_1'].apply(convert_to_float)\n",
    "    spread_eval_df['SPREAD_2'] = spread_eval_df['SPREAD_2'].apply(convert_to_float)\n",
    "    spread_eval_df['SPREAD_4'] = spread_eval_df['SPREAD_4'].apply(convert_to_float)\n",
    "    \n",
    "    #compute winning percentages for each book\n",
    "    results1, results2, results4 = calc_bet_winning_percentages(spread_eval_df)\n",
    "    print('Winning percentage on book 1: ', results1)\n",
    "    print('Winning percentage on book 2: ', results2)\n",
    "    print('Winning percentage on book 4: ', results4)"
   ]
  },
  {
   "cell_type": "code",
   "execution_count": 171,
   "id": "1c815118",
   "metadata": {},
   "outputs": [
    {
     "name": "stdout",
     "output_type": "stream",
     "text": [
      "Winning percentage on book 1:  0.49191606467148263\n",
      "Winning percentage on book 2:  0.518572117703811\n",
      "Winning percentage on book 4:  0.5058922558922558\n"
     ]
    }
   ],
   "source": [
    "#evaluate model\n",
    "eval_model(rf)"
   ]
  },
  {
   "cell_type": "code",
   "execution_count": 172,
   "id": "386177b0",
   "metadata": {},
   "outputs": [
    {
     "data": {
      "text/plain": [
       "\"\\nrf = RandomForestRegressor()\\nn_estimators = [int(x) for x inn np.linspace(100, 1000, num=10)]\\nmax_features =['auto', 'sqrt']\\nmax_depth = [int(x) for x in np.linspace(10, 50, num=10)]\\nmax_depth.append(None)\\nmin_samples_split = [2, 5, 10]\\nmin_samples_leaf = [1, 2, 5]\\nbootstrap = [True, False]\\n\\nrandom_grid = {'n_estimators': n_estimators,\\n               'max_features': max_features,\\n               'max_depth': max_depth,\\n               'min_samples_split': min_samples_split,\\n               'min_samples_leaf': min_samples_leaf,\\n               'bootstrap': bootstrap}\\n\\nrf_random = RandomizedSearchCV(estimator=rf, param_distributions=random_grid, n_iter=100, cv=3, verbose=2, random_state=31, n_jobs=-1)\\n\\nrf_random.fit(X_train, y_train)\\n\""
      ]
     },
     "execution_count": 172,
     "metadata": {},
     "output_type": "execute_result"
    }
   ],
   "source": [
    "#Tuned RF\n",
    "#create hyperparameter grid\n",
    "'''\n",
    "rf = RandomForestRegressor()\n",
    "n_estimators = [int(x) for x inn np.linspace(100, 1000, num=10)]\n",
    "max_features =['auto', 'sqrt']\n",
    "max_depth = [int(x) for x in np.linspace(10, 50, num=10)]\n",
    "max_depth.append(None)\n",
    "min_samples_split = [2, 5, 10]\n",
    "min_samples_leaf = [1, 2, 5]\n",
    "bootstrap = [True, False]\n",
    "\n",
    "random_grid = {'n_estimators': n_estimators,\n",
    "               'max_features': max_features,\n",
    "               'max_depth': max_depth,\n",
    "               'min_samples_split': min_samples_split,\n",
    "               'min_samples_leaf': min_samples_leaf,\n",
    "               'bootstrap': bootstrap}\n",
    "\n",
    "rf_random = RandomizedSearchCV(estimator=rf, param_distributions=random_grid, n_iter=100, cv=3, verbose=2, random_state=31, n_jobs=-1)\n",
    "\n",
    "rf_random.fit(X_train, y_train)\n",
    "'''"
   ]
  },
  {
   "cell_type": "code",
   "execution_count": null,
   "id": "d941958e",
   "metadata": {},
   "outputs": [],
   "source": []
  }
 ],
 "metadata": {
  "kernelspec": {
   "display_name": "Python 3",
   "language": "python",
   "name": "python3"
  },
  "language_info": {
   "codemirror_mode": {
    "name": "ipython",
    "version": 3
   },
   "file_extension": ".py",
   "mimetype": "text/x-python",
   "name": "python",
   "nbconvert_exporter": "python",
   "pygments_lexer": "ipython3",
   "version": "3.8.8"
  }
 },
 "nbformat": 4,
 "nbformat_minor": 5
}
