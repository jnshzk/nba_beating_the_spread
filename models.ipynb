{
 "cells": [
  {
   "cell_type": "code",
   "execution_count": 1,
   "id": "51e7848f",
   "metadata": {},
   "outputs": [],
   "source": [
    "import random\n",
    "import pandas as pd\n",
    "import numpy as np\n",
    "from tqdm import tqdm\n",
    "import sqlite3\n",
    "from matplotlib import pyplot as plt\n",
    "from datetime import datetime, timedelta\n",
    "from collections import defaultdict\n",
    "import seaborn as sns\n",
    "\n",
    "from sklearn.model_selection import cross_val_score\n",
    "from sklearn.model_selection import RandomizedSearchCV\n",
    "from sklearn.model_selection import GridSearchCV\n",
    "from sklearn.ensemble import RandomForestRegressor\n",
    "from sklearn.preprocessing import StandardScaler\n",
    "from sklearn.preprocessing import PolynomialFeatures\n",
    "from sklearn.linear_model import LinearRegression\n",
    "from sklearn.neighbors import KNeighborsRegressor\n",
    "from sklearn.linear_model import Ridge\n",
    "from sklearn.decomposition import PCA\n",
    "from sklearn.metrics import r2_score\n",
    "\n",
    "from xgboost import XGBRegressor"
   ]
  },
  {
   "cell_type": "code",
   "execution_count": 2,
   "id": "4d284b78",
   "metadata": {},
   "outputs": [],
   "source": [
    "def convert_to_float(frac_str):\n",
    "    try:\n",
    "        return float(frac_str)\n",
    "    except ValueError:\n",
    "        output = frac_str[:-1]\n",
    "        \n",
    "        if output=='+':\n",
    "            return 0.5\n",
    "        elif output=='-':\n",
    "            return -0.5\n",
    "        \n",
    "        if output[0]=='-':\n",
    "            output = float(output) - 0.5\n",
    "        elif output[0]=='+':\n",
    "            output = float(output) + 0.5\n",
    "        return output"
   ]
  },
  {
   "cell_type": "code",
   "execution_count": 3,
   "id": "0276eece",
   "metadata": {},
   "outputs": [],
   "source": [
    "def calc_bet_winning_percentages(df):\n",
    "    spread_wl_1 = []\n",
    "    spread_wl_2 = []\n",
    "    spread_wl_4 = []\n",
    "    for row in df.iterrows():\n",
    "        row = row[1]\n",
    "        if row['SPREADS_PRED'] > row['SPREAD_1_AWAY']:\n",
    "            if row['SPREAD'] > row['SPREAD_1_AWAY']:\n",
    "                spread_wl_1.append(1)\n",
    "            elif row['SPREAD'] < row['SPREAD_1_AWAY']:\n",
    "                spread_wl_1.append(0)\n",
    "                \n",
    "        elif row['SPREADS_PRED'] < row['SPREAD_1_AWAY']:\n",
    "            if row['SPREAD'] < row['SPREAD_1_AWAY']:\n",
    "                spread_wl_1.append(1)\n",
    "            elif row['SPREAD'] > row['SPREAD_1_AWAY']:\n",
    "                spread_wl_1.append(0)\n",
    "                \n",
    "        if row['SPREADS_PRED'] > row['SPREAD_2_AWAY']:\n",
    "            if row['SPREAD'] > row['SPREAD_2_AWAY']:\n",
    "                spread_wl_2.append(1)\n",
    "            elif row['SPREAD'] < row['SPREAD_2_AWAY']:\n",
    "                spread_wl_2.append(0)\n",
    "                \n",
    "        elif row['SPREADS_PRED'] < row['SPREAD_2_AWAY']:\n",
    "            if row['SPREAD'] < row['SPREAD_2_AWAY']:\n",
    "                spread_wl_2.append(1)\n",
    "            elif row['SPREAD'] > row['SPREAD_2_AWAY']:\n",
    "                spread_wl_2.append(0)\n",
    "                \n",
    "        if row['SPREADS_PRED'] > row['SPREAD_4_AWAY']:\n",
    "            if row['SPREAD'] > row['SPREAD_4_AWAY']:\n",
    "                spread_wl_4.append(1)\n",
    "            elif row['SPREAD'] < row['SPREAD_4_AWAY']:\n",
    "                spread_wl_4.append(0)\n",
    "                \n",
    "        elif row['SPREADS_PRED'] < row['SPREAD_4_AWAY']:\n",
    "            if row['SPREAD'] < row['SPREAD_4_AWAY']:\n",
    "                spread_wl_4.append(1)\n",
    "            elif row['SPREAD'] > row['SPREAD_4_AWAY']:\n",
    "                spread_wl_4.append(0)  \n",
    "                \n",
    "    spread_1_winning_percentage = sum(spread_wl_1) / len(spread_wl_1)\n",
    "    spread_2_winning_percentage = sum(spread_wl_2) / len(spread_wl_2)\n",
    "    spread_4_winning_percentage = sum(spread_wl_4) / len(spread_wl_4)\n",
    "    \n",
    "    return spread_1_winning_percentage, spread_2_winning_percentage, spread_4_winning_percentage\n"
   ]
  },
  {
   "cell_type": "code",
   "execution_count": 4,
   "id": "3a08a755",
   "metadata": {},
   "outputs": [],
   "source": [
    "def eval_model(model, X_train, y_train, X_test, X_test_game_ids):\n",
    "    #create df of actual spreads, predicted spreads, and betting spreads\n",
    "    model = model.fit(X_train, y_train)\n",
    "    \n",
    "    predicts_df = pd.DataFrame({'SPREADS_PRED': model.predict(X_test)})\n",
    "    predicts_df['GAME_ID'] = X_test_game_ids\n",
    "    \n",
    "    spread_eval_df = test_spreads_df.merge(predicts_df, how='inner', on='GAME_ID')\n",
    "    spread_eval_df = spread_eval_df.merge(spreads_df, how='inner', on=['HOME_TEAM','GM_DATE'])\n",
    "    \n",
    "    #convert betting spreads to floats\n",
    "    spread_eval_df['SPREAD_1_AWAY'] = spread_eval_df['SPREAD_1_AWAY'].apply(convert_to_float)\n",
    "    spread_eval_df['SPREAD_2_AWAY'] = spread_eval_df['SPREAD_2_AWAY'].apply(convert_to_float)\n",
    "    spread_eval_df['SPREAD_4_AWAY'] = spread_eval_df['SPREAD_4_AWAY'].apply(convert_to_float)\n",
    "    \n",
    "    #compute winning percentages for each book\n",
    "    results1, results2, results4 = calc_bet_winning_percentages(spread_eval_df)\n",
    "    print('Winning percentage on book 1: ', results1)\n",
    "    print('Winning percentage on book 2: ', results2)\n",
    "    print('Winning percentage on book 4: ', results4)"
   ]
  },
  {
   "cell_type": "code",
   "execution_count": 31,
   "id": "8eb18131",
   "metadata": {},
   "outputs": [],
   "source": [
    "def eval_winnings(model, X_test, X_test_game_ids, confidence_threshold=0, bankroll=1000):\n",
    "    \n",
    "    #generate predictions with associated game ids\n",
    "    predicts_df = pd.DataFrame({'SPREADS_PRED': model.predict(X_test)})\n",
    "    predicts_df['GAME_ID'] = X_test_game_ids\n",
    "    \n",
    "    #create df with predicted spreads, actual spreads, and betting spreads\n",
    "    winnings_eval_df = test_spreads_df.merge(predicts_df, how='inner', on='GAME_ID')\n",
    "    winnings_eval_df = winnings_eval_df.merge(spreads_df, how='inner', on=['HOME_TEAM','GM_DATE'])\n",
    "    \n",
    "    winnings_eval_df.drop(columns=['SPREAD_1_HOME', 'SPREAD_2_HOME','SPREAD_3_HOME','SPREAD_4_HOME'], inplace=True)\n",
    "    \n",
    "    #convert betting spreads to floats\n",
    "    winnings_eval_df['SPREAD_1_AWAY'] = winnings_eval_df['SPREAD_1_AWAY'].apply(convert_to_float)\n",
    "    winnings_eval_df['SPREAD_2_AWAY'] = winnings_eval_df['SPREAD_2_AWAY'].apply(convert_to_float)\n",
    "    winnings_eval_df['SPREAD_3_AWAY'] = winnings_eval_df['SPREAD_3_AWAY'].apply(convert_to_float)\n",
    "    winnings_eval_df['SPREAD_4_AWAY'] = winnings_eval_df['SPREAD_4_AWAY'].apply(convert_to_float)\n",
    "    \n",
    "    #for each game, find betting spread with largest discrepency with predicted spread\n",
    "    spread_away = np.empty(len(winnings_eval_df))\n",
    "    odds_away = np.empty(len(winnings_eval_df))\n",
    "    odds_home = np.empty(len(winnings_eval_df))\n",
    "    \n",
    "    for i, row in winnings_eval_df.iterrows():\n",
    "        \n",
    "        spread_diff = {}\n",
    "        \n",
    "        if not np.isnan(row['SPREAD_1_AWAY']):\n",
    "            spread_diff['SPREAD_1_AWAY'] = abs(row['SPREAD_1_AWAY'] - row['SPREADS_PRED'])\n",
    "        if not np.isnan(row['SPREAD_2_AWAY']):\n",
    "            spread_diff['SPREAD_2_AWAY'] = abs(row['SPREAD_2_AWAY'] - row['SPREADS_PRED'])\n",
    "        if not np.isnan(row['SPREAD_3_AWAY']):\n",
    "            spread_diff['SPREAD_3_AWAY'] = abs(row['SPREAD_3_AWAY'] - row['SPREADS_PRED'])\n",
    "        if not np.isnan(row['SPREAD_4_AWAY']):\n",
    "            spread_diff['SPREAD_4_AWAY'] = abs(row['SPREAD_4_AWAY'] - row['SPREADS_PRED'])\n",
    "        \n",
    "        if not spread_diff:\n",
    "            continue\n",
    "            \n",
    "        book_num = max(spread_diff, key=spread_diff.get)[7]\n",
    "        \n",
    "        try:\n",
    "            spread_away[i] = row['SPREAD_%s_AWAY'%book_num]\n",
    "            odds_away[i] = row['ODDS_%s_AWAY'%book_num]\n",
    "            odds_home[i] = row['ODDS_%s_HOME'%book_num]\n",
    "        except:\n",
    "            continue\n",
    "        \n",
    "    winnings_eval_df.drop(columns=['SPREAD_1_AWAY',\n",
    "                                   'ODDS_1_AWAY',\n",
    "                                   'ODDS_1_HOME',\n",
    "                                   'SPREAD_2_AWAY',\n",
    "                                   'ODDS_2_AWAY',\n",
    "                                   'ODDS_2_HOME',\n",
    "                                   'SPREAD_3_AWAY',\n",
    "                                   'ODDS_3_AWAY',\n",
    "                                   'ODDS_3_HOME',\n",
    "                                   'SPREAD_4_AWAY',\n",
    "                                   'ODDS_4_AWAY',\n",
    "                                   'ODDS_4_HOME',], inplace=True)\n",
    "    \n",
    "    winnings_eval_df['SPREAD_AWAY'] = spread_away\n",
    "    winnings_eval_df['ODDS_AWAY'] = odds_away\n",
    "    winnings_eval_df['ODDS_HOME'] = odds_home\n",
    "    \n",
    "    #sort dataframe by date\n",
    "    winnings_eval_df.sort_values(by='GM_DATE', inplace=True, ignore_index=True)\n",
    "\n",
    "    #initialize starting bankroll and bet amount\n",
    "    #bankroll = 1000\n",
    "    bet_amt = 5\n",
    "    \n",
    "    bankroll_trended = np.empty(len(winnings_eval_df))\n",
    "    bankroll_trended[0] = bankroll\n",
    "    wins = np.empty(len(winnings_eval_df))\n",
    "    \n",
    "    #compute winnings\n",
    "    for i, row in winnings_eval_df.iterrows():\n",
    "        \n",
    "        winnings=0\n",
    "        \n",
    "        if abs(row['SPREADS_PRED'] - row['SPREAD_AWAY']) < confidence_threshold:\n",
    "            if i==0:\n",
    "                bankroll_trended[i] = bankroll\n",
    "            else:\n",
    "                bankroll_trended[i] = bankroll_trended[i-1]\n",
    "            continue\n",
    "        \n",
    "        if row['SPREADS_PRED'] > row['SPREAD_AWAY']:\n",
    "            if row['SPREAD'] < row['SPREAD_AWAY']:\n",
    "                wins[i] = -1\n",
    "                winnings = -bet_amt\n",
    "            elif row['SPREAD'] > row['SPREAD_AWAY']:\n",
    "                wins[i] = 1\n",
    "                if row['ODDS_HOME'] < 0:\n",
    "                    winnings = (100 / abs(row['ODDS_HOME'])) * bet_amt\n",
    "                elif row['ODDS_HOME'] > 0:\n",
    "                    winnings = (row['ODDS_HOME'] / 100) * bet_amt\n",
    "                \n",
    "        elif row['SPREADS_PRED'] < row['SPREAD_AWAY']:\n",
    "            if row['SPREAD'] > row['SPREAD_AWAY']:\n",
    "                wins[i] = -1\n",
    "                winnings = -bet_amt\n",
    "            elif row['SPREAD'] < row['SPREAD_AWAY']:\n",
    "                wins[i] = 1\n",
    "                if row['ODDS_AWAY'] < 0:\n",
    "                    winnings = (100 / abs(row['ODDS_AWAY'])) * bet_amt\n",
    "                elif row['ODDS_AWAY'] > 0:\n",
    "                    winnings = (row['ODDS_AWAY'] / 100) * bet_amt\n",
    "        \n",
    "        bankroll += winnings\n",
    "        bankroll_trended[i] = bankroll\n",
    "    \n",
    "    win_count = (wins==1).sum()\n",
    "    loss_count = (wins==-1).sum()\n",
    "    win_pct = win_count / (win_count+loss_count)\n",
    "    bankroll_trended_df = pd.DataFrame({'date':winnings_eval_df['GM_DATE'], 'bankroll':bankroll_trended})\n",
    "    \n",
    "    return win_pct, bankroll_trended_df, winnings_eval_df, wins\n",
    "    #return win_pct, bankroll_trended_df"
   ]
  },
  {
   "cell_type": "code",
   "execution_count": 21,
   "id": "9c57a79a",
   "metadata": {},
   "outputs": [],
   "source": [
    "def get_data(test_season):\n",
    "    \n",
    "    #import boxscore data\n",
    "    df = pd.read_csv('weighted_average_df_50.csv')\n",
    "    df = df[df['SEASON'] <= test_season]\n",
    "    df.drop(columns=['Unnamed: 0'], inplace=True)\n",
    "    \n",
    "    #create test_spreads_df for model evaluation later\n",
    "    test_df = df[df['SEASON'] == test_season].copy()\n",
    "    test_spreads_df = test_df[['GAME_ID','GAME_DATE','TEAM_ID_HOME','TEAM_CITY_HOME','SPREAD']].copy()\n",
    "    test_spreads_df['TEAM_CITY_HOME'] = test_spreads_df['TEAM_CITY_HOME'].map({'LA':'L.A. Clippers', \n",
    "                                                                               'Los Angeles':'L.A. Lakers',\n",
    "                                                                               'Boston': 'Boston',\n",
    "                                                                               'Golden State': 'Golden State',\n",
    "                                                                               'Miami': 'Miami',\n",
    "                                                                               'Dallas':'Dallas',\n",
    "                                                                               'Phoenix':'Phoenix',\n",
    "                                                                               'Milwaukee':'Milwaukee',\n",
    "                                                                               'Philadelphia':'Philadelphia',\n",
    "                                                                               'Memphis':'Memphis',\n",
    "                                                                               'Minnesota':'Minnesota',\n",
    "                                                                               'Utah':'Utah',\n",
    "                                                                               'New Orleans':'New Orleans',\n",
    "                                                                               'Toronto':'Toronto',\n",
    "                                                                               'Brooklyn':'Brooklyn',\n",
    "                                                                               'Atlanta':'Atlanta',\n",
    "                                                                               'Denver':'Denver',\n",
    "                                                                               'Chicago':'Chicago',\n",
    "                                                                               'Houston':'Houston',\n",
    "                                                                               'Portland':'Portland',\n",
    "                                                                               'Cleveland':'Cleveland',\n",
    "                                                                               'Charlotte':'Charlotte',\n",
    "                                                                               'Orlando':'Orlando',\n",
    "                                                                               'New York':'New York',\n",
    "                                                                               'San Antonio':'San Antonio',\n",
    "                                                                               'Washington':'Washington',\n",
    "                                                                               'Detroit':'Detroit',\n",
    "                                                                               'Sacramento':'Sacramento',\n",
    "                                                                               'Oklahoma City':'Oklahoma City',\n",
    "                                                                               'Indiana':'Indiana'\n",
    "                                                                              })\n",
    "    test_spreads_df.rename(columns={'TEAM_CITY_HOME':'HOME_TEAM', 'GAME_DATE':'GM_DATE'}, inplace=True)\n",
    "    \n",
    "    #Standardize boxscore data\n",
    "    df.drop(columns=['TEAM_ID_HOME',\n",
    "                     'GAME_DATE',\n",
    "                     'TEAM_CITY_HOME',\n",
    "                     'TEAM_ID_AWAY',\n",
    "                     'TEAM_CITY_AWAY',\n",
    "                     'SEASON'], inplace=True)\n",
    "\n",
    "    non_feature_cols = {'GAME_ID', 'SPREAD'}\n",
    "    feature_cols = set(df.columns) - non_feature_cols\n",
    "\n",
    "    sclr = StandardScaler()\n",
    "    df[list(feature_cols)] = sclr.fit_transform(df[list(feature_cols)])\n",
    "    \n",
    "    #apply dimensionality reduction to data, keeping n components\n",
    "    n_components = 20\n",
    "    pca=PCA(n_components=n_components)\n",
    "    \n",
    "    df_ids_spreads = df[list(non_feature_cols)].copy()\n",
    "    #print(df_ids_spreads)\n",
    "\n",
    "    df_pca = pd.DataFrame(pca.fit_transform(df[list(feature_cols)]))\n",
    "    df_pca['GAME_ID'] = np.array(df_ids_spreads['GAME_ID'])\n",
    "    df_pca['SPREAD'] = np.array(df_ids_spreads['SPREAD'])\n",
    "    #print(df_pca)\n",
    "    \n",
    "    #split pca data into train and test\n",
    "    test_ids_set = set(test_spreads_df['GAME_ID'])\n",
    "\n",
    "    train_pca = df_pca[~df_pca['GAME_ID'].isin(test_ids_set)].copy()\n",
    "    test_pca = df_pca[df_pca['GAME_ID'].isin(test_ids_set)].copy()\n",
    "\n",
    "    train_game_ids = train_pca['GAME_ID'].copy()\n",
    "    test_game_ids = test_pca['GAME_ID'].copy()\n",
    "\n",
    "    y_train_pca = train_pca['SPREAD']\n",
    "    X_train_pca = train_pca.drop(columns=['SPREAD','GAME_ID'])\n",
    "    \n",
    "    #print(y_train_pca)\n",
    "\n",
    "    y_test_pca = test_pca['SPREAD']\n",
    "    X_test_pca = test_pca.drop(columns=['SPREAD','GAME_ID'])\n",
    "    \n",
    "    return X_train_pca, y_train_pca, X_test_pca, y_test_pca, test_game_ids, test_spreads_df\n",
    "    "
   ]
  },
  {
   "cell_type": "code",
   "execution_count": 22,
   "id": "bd579bce",
   "metadata": {},
   "outputs": [],
   "source": [
    "#import betting spreads data\n",
    "spreads_df = pd.read_csv('spreads_df.csv')\n",
    "spreads_df.drop(columns=['Unnamed: 0'], inplace=True)"
   ]
  },
  {
   "cell_type": "code",
   "execution_count": 41,
   "id": "a84cbb9c",
   "metadata": {},
   "outputs": [
    {
     "name": "stdout",
     "output_type": "stream",
     "text": [
      "Linear regression CV scores:  [0.16761292 0.17769732 0.18730739 0.11561292 0.1439697 ]\n",
      "Linear regression avg. CV score:  0.1584400531160811\n",
      "Test set win percentage:  0.6425531914893617\n",
      "Bankroll at end of 2017-18 season:  1029.6422076670583\n"
     ]
    },
    {
     "data": {
      "image/png": "[encoded data removed]",
      "text/plain": [
       "<Figure size 432x288 with 1 Axes>"
      ]
     },
     "metadata": {
      "needs_background": "light"
     },
     "output_type": "display_data"
    }
   ],
   "source": [
    "#evaluate 2017-18 season\n",
    "X_train, y_train, X_test, y_test, test_game_ids, test_spreads_df = get_data('2017-18')\n",
    "\n",
    "lin_reg = LinearRegression()\n",
    "\n",
    "lin_reg_CV_score = cross_val_score(lin_reg, X_train, y_train, cv=5)\n",
    "print('Linear regression CV scores: ', lin_reg_CV_score)\n",
    "print('Linear regression avg. CV score: ', lin_reg_CV_score.mean())\n",
    "\n",
    "lin_reg.fit(X_train, y_train)\n",
    "\n",
    "win_pct, bankroll_trended_df, eval_df, wins = eval_winnings(lin_reg, X_test, test_game_ids, confidence_threshold=7)\n",
    "print('Test set win percentage: ', win_pct)\n",
    "\n",
    "plt.plot(bankroll_trended_df['date'], bankroll_trended_df['bankroll'])\n",
    "\n",
    "bankroll_18 = bankroll_trended_df['bankroll'].iloc[-1]\n",
    "print('Bankroll at end of 2017-18 season: ', bankroll_18)"
   ]
  },
  {
   "cell_type": "code",
   "execution_count": 42,
   "id": "4287ce97",
   "metadata": {},
   "outputs": [
    {
     "name": "stdout",
     "output_type": "stream",
     "text": [
      "Linear regression CV scores:  [0.15560416 0.16932787 0.19239299 0.13242598 0.13514791]\n",
      "Linear regression avg. CV score:  0.1569797812422833\n",
      "Test set win percentage:  0.4166666666666667\n",
      "Bankroll at end of 2018-19 season:  981.0030207670013\n"
     ]
    },
    {
     "data": {
      "image/png": "[encoded data removed]",
      "text/plain": [
       "<Figure size 432x288 with 1 Axes>"
      ]
     },
     "metadata": {
      "needs_background": "light"
     },
     "output_type": "display_data"
    }
   ],
   "source": [
    "#evaluate 2018-19 season\n",
    "X_train, y_train, X_test, y_test, test_game_ids, test_spreads_df = get_data('2018-19')\n",
    "\n",
    "lin_reg = LinearRegression()\n",
    "\n",
    "lin_reg_CV_score = cross_val_score(lin_reg, X_train, y_train, cv=5)\n",
    "print('Linear regression CV scores: ', lin_reg_CV_score)\n",
    "print('Linear regression avg. CV score: ', lin_reg_CV_score.mean())\n",
    "\n",
    "lin_reg.fit(X_train, y_train)\n",
    "\n",
    "win_pct, bankroll_trended_df, eval_df, wins = eval_winnings(lin_reg, X_test, test_game_ids, confidence_threshold=7, bankroll=bankroll_18)\n",
    "print('Test set win percentage: ', win_pct)\n",
    "\n",
    "plt.plot(bankroll_trended_df['date'], bankroll_trended_df['bankroll'])\n",
    "\n",
    "bankroll_19 = bankroll_trended_df['bankroll'].iloc[-1]\n",
    "print('Bankroll at end of 2018-19 season: ', bankroll_19)"
   ]
  },
  {
   "cell_type": "code",
   "execution_count": 43,
   "id": "9d1e4e49",
   "metadata": {},
   "outputs": [
    {
     "name": "stdout",
     "output_type": "stream",
     "text": [
      "Linear regression CV scores:  [0.15030179 0.17360214 0.17495548 0.15115562 0.13642497]\n",
      "Linear regression avg. CV score:  0.157288001346293\n",
      "Test set win percentage:  0.4430379746835443\n",
      "Bankroll at end of 2019-20 season:  919.1222566036271\n"
     ]
    },
    {
     "data": {
      "image/png": "[encoded data removed]",
      "text/plain": [
       "<Figure size 432x288 with 1 Axes>"
      ]
     },
     "metadata": {
      "needs_background": "light"
     },
     "output_type": "display_data"
    }
   ],
   "source": [
    "#evaluate 2019-20 season\n",
    "X_train, y_train, X_test, y_test, test_game_ids, test_spreads_df = get_data('2019-20')\n",
    "\n",
    "lin_reg = LinearRegression()\n",
    "\n",
    "lin_reg_CV_score = cross_val_score(lin_reg, X_train, y_train, cv=5)\n",
    "print('Linear regression CV scores: ', lin_reg_CV_score)\n",
    "print('Linear regression avg. CV score: ', lin_reg_CV_score.mean())\n",
    "\n",
    "lin_reg.fit(X_train, y_train)\n",
    "\n",
    "win_pct, bankroll_trended_df, eval_df, wins = eval_winnings(lin_reg, X_test, test_game_ids, confidence_threshold=7, bankroll=bankroll_19)\n",
    "print('Test set win percentage: ', win_pct)\n",
    "\n",
    "plt.plot(bankroll_trended_df['date'], bankroll_trended_df['bankroll'])\n",
    "\n",
    "bankroll_20 = bankroll_trended_df['bankroll'].iloc[-1]\n",
    "print('Bankroll at end of 2019-20 season: ', bankroll_20)"
   ]
  },
  {
   "cell_type": "code",
   "execution_count": 44,
   "id": "8af96f24",
   "metadata": {},
   "outputs": [
    {
     "name": "stdout",
     "output_type": "stream",
     "text": [
      "Linear regression CV scores:  [0.13801383 0.17832433 0.17817099 0.15174059 0.13760732]\n",
      "Linear regression avg. CV score:  0.15677141061188857\n",
      "Test set win percentage:  0.38636363636363635\n",
      "Bankroll at end of 2020-21 season:  802.972971747146\n"
     ]
    },
    {
     "data": {
      "image/png": "[encoded data removed]",
      "text/plain": [
       "<Figure size 432x288 with 1 Axes>"
      ]
     },
     "metadata": {
      "needs_background": "light"
     },
     "output_type": "display_data"
    }
   ],
   "source": [
    "#evaluate 2020-21 season\n",
    "X_train, y_train, X_test, y_test, test_game_ids, test_spreads_df = get_data('2020-21')\n",
    "\n",
    "lin_reg = LinearRegression()\n",
    "\n",
    "lin_reg_CV_score = cross_val_score(lin_reg, X_train, y_train, cv=5)\n",
    "print('Linear regression CV scores: ', lin_reg_CV_score)\n",
    "print('Linear regression avg. CV score: ', lin_reg_CV_score.mean())\n",
    "\n",
    "lin_reg.fit(X_train, y_train)\n",
    "\n",
    "win_pct, bankroll_trended_df, eval_df, wins = eval_winnings(lin_reg, X_test, test_game_ids, confidence_threshold=7, bankroll=bankroll_20)\n",
    "print('Test set win percentage: ', win_pct)\n",
    "\n",
    "plt.plot(bankroll_trended_df['date'], bankroll_trended_df['bankroll'])\n",
    "\n",
    "bankroll_21 = bankroll_trended_df['bankroll'].iloc[-1]\n",
    "print('Bankroll at end of 2020-21 season: ', bankroll_21)"
   ]
  },
  {
   "cell_type": "code",
   "execution_count": 45,
   "id": "e069f1fc",
   "metadata": {},
   "outputs": [
    {
     "name": "stdout",
     "output_type": "stream",
     "text": [
      "Linear regression CV scores:  [0.13489143 0.16748203 0.17676417 0.15668144 0.136567  ]\n",
      "Linear regression avg. CV score:  0.1544772138961099\n",
      "Test set win percentage:  0.5319148936170213\n",
      "Bankroll at end of 2021-22 season:  794.8504573170922\n"
     ]
    },
    {
     "data": {
      "image/png": "[encoded data removed]",
      "text/plain": [
       "<Figure size 432x288 with 1 Axes>"
      ]
     },
     "metadata": {
      "needs_background": "light"
     },
     "output_type": "display_data"
    }
   ],
   "source": [
    "#evaluate 2021-22 season\n",
    "X_train, y_train, X_test, y_test, test_game_ids, test_spreads_df = get_data('2021-22')\n",
    "\n",
    "lin_reg = LinearRegression()\n",
    "\n",
    "lin_reg_CV_score = cross_val_score(lin_reg, X_train, y_train, cv=5)\n",
    "print('Linear regression CV scores: ', lin_reg_CV_score)\n",
    "print('Linear regression avg. CV score: ', lin_reg_CV_score.mean())\n",
    "\n",
    "lin_reg.fit(X_train, y_train)\n",
    "\n",
    "win_pct, bankroll_trended_df, eval_df, wins = eval_winnings(lin_reg, X_test, test_game_ids, confidence_threshold=7, bankroll=bankroll_21)\n",
    "print('Test set win percentage: ', win_pct)\n",
    "\n",
    "plt.plot(bankroll_trended_df['date'], bankroll_trended_df['bankroll'])\n",
    "\n",
    "bankroll_22 = bankroll_trended_df['bankroll'].iloc[-1]\n",
    "print('Bankroll at end of 2021-22 season: ', bankroll_22)"
   ]
  },
  {
   "cell_type": "code",
   "execution_count": null,
   "id": "5390600f",
   "metadata": {},
   "outputs": [],
   "source": [
    "#read in dataset\n",
    "#df = pd.read_csv('moving_average_df_60.csv')\n",
    "df = pd.read_csv('weighted_average_df_50.csv')\n",
    "df.head()"
   ]
  },
  {
   "cell_type": "code",
   "execution_count": null,
   "id": "08dd3712",
   "metadata": {},
   "outputs": [],
   "source": [
    "#import betting spreads data\n",
    "spreads_df = pd.read_csv('spreads_df.csv')\n",
    "spreads_df.drop(columns=['Unnamed: 0'], inplace=True)"
   ]
  },
  {
   "cell_type": "code",
   "execution_count": null,
   "id": "6f024425",
   "metadata": {},
   "outputs": [],
   "source": [
    "spreads_df.info()"
   ]
  },
  {
   "cell_type": "code",
   "execution_count": null,
   "id": "bb4974bc",
   "metadata": {},
   "outputs": [],
   "source": [
    "#create test set and create test_spreads_df for model evaluation\n",
    "#test_seasons = ['2021-22', '2020-21', '2019-20', '2018-19', '2017-18']\n",
    "test_seasons = ['2021-22']\n",
    "\n",
    "test_df = df[df['SEASON'].isin(test_seasons)].copy()\n",
    "test_spreads_df = test_df[['GAME_ID','GAME_DATE','TEAM_ID_HOME','TEAM_CITY_HOME','SPREAD']].copy()\n",
    "test_spreads_df['TEAM_CITY_HOME'] = test_spreads_df['TEAM_CITY_HOME'].map({'LA':'L.A. Clippers', \n",
    "                                                                           'Los Angeles':'L.A. Lakers',\n",
    "                                                                           'Boston': 'Boston',\n",
    "                                                                           'Golden State': 'Golden State',\n",
    "                                                                           'Miami': 'Miami',\n",
    "                                                                           'Dallas':'Dallas',\n",
    "                                                                           'Phoenix':'Phoenix',\n",
    "                                                                           'Milwaukee':'Milwaukee',\n",
    "                                                                           'Philadelphia':'Philadelphia',\n",
    "                                                                           'Memphis':'Memphis',\n",
    "                                                                           'Minnesota':'Minnesota',\n",
    "                                                                           'Utah':'Utah',\n",
    "                                                                           'New Orleans':'New Orleans',\n",
    "                                                                           'Toronto':'Toronto',\n",
    "                                                                           'Brooklyn':'Brooklyn',\n",
    "                                                                           'Atlanta':'Atlanta',\n",
    "                                                                           'Denver':'Denver',\n",
    "                                                                           'Chicago':'Chicago',\n",
    "                                                                           'Houston':'Houston',\n",
    "                                                                           'Portland':'Portland',\n",
    "                                                                           'Cleveland':'Cleveland',\n",
    "                                                                           'Charlotte':'Charlotte',\n",
    "                                                                           'Orlando':'Orlando',\n",
    "                                                                           'New York':'New York',\n",
    "                                                                           'San Antonio':'San Antonio',\n",
    "                                                                           'Washington':'Washington',\n",
    "                                                                           'Detroit':'Detroit',\n",
    "                                                                           'Sacramento':'Sacramento',\n",
    "                                                                           'Oklahoma City':'Oklahoma City',\n",
    "                                                                           'Indiana':'Indiana'\n",
    "                                                                          })\n",
    "test_spreads_df.rename(columns={'TEAM_CITY_HOME':'HOME_TEAM', 'GAME_DATE':'GM_DATE'}, inplace=True)\n",
    "test_spreads_df.head()"
   ]
  },
  {
   "cell_type": "code",
   "execution_count": null,
   "id": "533c6a2a",
   "metadata": {},
   "outputs": [],
   "source": [
    "#create training dataset\n",
    "train_df = df[df['SEASON'].isin(test_seasons)==False].copy()"
   ]
  },
  {
   "cell_type": "code",
   "execution_count": null,
   "id": "e75a5fd5",
   "metadata": {},
   "outputs": [],
   "source": [
    "#drop unnecessary columns\n",
    "test_df.drop(columns=['Unnamed: 0',\n",
    "                 'TEAM_ID_HOME',\n",
    "                 'GAME_ID',\n",
    "                 'GAME_DATE',\n",
    "                 'TEAM_CITY_HOME',\n",
    "                 'TEAM_ID_AWAY',\n",
    "                 'TEAM_CITY_AWAY'], inplace=True)\n",
    "train_df.drop(columns=['Unnamed: 0',\n",
    "                 'TEAM_ID_HOME',\n",
    "                 'GAME_ID',\n",
    "                 'GAME_DATE',\n",
    "                 'TEAM_CITY_HOME',\n",
    "                 'TEAM_ID_AWAY',\n",
    "                 'TEAM_CITY_AWAY'], inplace=True)"
   ]
  },
  {
   "cell_type": "code",
   "execution_count": null,
   "id": "999560e3",
   "metadata": {},
   "outputs": [],
   "source": [
    "#separate spread actuals from training and testing data\n",
    "X_train = train_df.drop(columns=['SPREAD','SEASON'])\n",
    "y_train = train_df['SPREAD']\n",
    "X_test = test_df.drop(columns=['SPREAD', 'SEASON'])\n",
    "y_test = test_df['SPREAD']"
   ]
  },
  {
   "cell_type": "code",
   "execution_count": null,
   "id": "eabdc416",
   "metadata": {},
   "outputs": [],
   "source": [
    "X_train.head()"
   ]
  },
  {
   "cell_type": "code",
   "execution_count": null,
   "id": "41853be7",
   "metadata": {},
   "outputs": [],
   "source": [
    "#Create standardized dataset\n",
    "df.drop(columns=['Unnamed: 0',\n",
    "                 'TEAM_ID_HOME',\n",
    "                 'GAME_DATE',\n",
    "                 'TEAM_CITY_HOME',\n",
    "                 'TEAM_ID_AWAY',\n",
    "                 'TEAM_CITY_AWAY',\n",
    "                 'SEASON'], inplace=True)\n",
    "\n",
    "non_feature_cols = {'GAME_ID', 'SPREAD'}\n",
    "feature_cols = set(df.columns) - non_feature_cols\n",
    "\n",
    "#standardize features\n",
    "sclr = StandardScaler()\n",
    "df[list(feature_cols)] = sclr.fit_transform(df[list(feature_cols)])\n",
    "df.head()"
   ]
  },
  {
   "cell_type": "code",
   "execution_count": null,
   "id": "910cd441",
   "metadata": {},
   "outputs": [],
   "source": [
    "#PCA to minimize multicollinearity\n",
    "pca = PCA().fit(df[list(feature_cols)])\n",
    "\n",
    "plt.plot(np.cumsum(pca.explained_variance_ratio_))\n",
    "plt.xlabel('number of components')\n",
    "plt.ylabel('cumulative explained variance')"
   ]
  },
  {
   "cell_type": "code",
   "execution_count": null,
   "id": "c1bf3031",
   "metadata": {},
   "outputs": [],
   "source": [
    "principal_components = np.arange(pca.n_components_)+1\n",
    "plt.plot(principal_components, pca.explained_variance_ratio_)\n",
    "plt.title('Scree Plot')\n",
    "plt.xlabel('Principal Component')\n",
    "plt.ylabel('Variance Explained')\n",
    "plt.show()"
   ]
  },
  {
   "cell_type": "code",
   "execution_count": null,
   "id": "02bceebc",
   "metadata": {},
   "outputs": [],
   "source": [
    "#apply dimensionality reduction to data, keeping n components\n",
    "n_components = 20\n",
    "pca=PCA(n_components=n_components)\n",
    "\n",
    "df_ids_spreads = df[list(non_feature_cols)].copy()\n",
    "\n",
    "df_pca = pd.DataFrame(pca.fit_transform(df[list(feature_cols)]))\n",
    "df_pca['GAME_ID'] = df_ids_spreads['GAME_ID']\n",
    "df_pca['SPREAD'] = df_ids_spreads['SPREAD']\n",
    "df_pca.head()"
   ]
  },
  {
   "cell_type": "code",
   "execution_count": null,
   "id": "bb37e24c",
   "metadata": {},
   "outputs": [],
   "source": [
    "#split pca data into train and test\n",
    "test_ids_set = set(test_spreads_df['GAME_ID'])\n",
    "\n",
    "train_pca = df_pca[~df_pca['GAME_ID'].isin(test_ids_set)].copy()\n",
    "test_pca = df_pca[df_pca['GAME_ID'].isin(test_ids_set)].copy()\n",
    "\n",
    "train_game_ids = train_pca['GAME_ID'].copy()\n",
    "test_game_ids = test_pca['GAME_ID'].copy()\n",
    "\n",
    "y_train_pca = train_pca['SPREAD']\n",
    "X_train_pca = train_pca.drop(columns=['SPREAD','GAME_ID'])\n",
    "\n",
    "y_test_pca = test_pca['SPREAD']\n",
    "X_test_pca = test_pca.drop(columns=['SPREAD','GAME_ID'])\n",
    "\n",
    "X_train_pca.head()"
   ]
  },
  {
   "cell_type": "code",
   "execution_count": null,
   "id": "339ce7b9",
   "metadata": {},
   "outputs": [],
   "source": [
    "#linear regression\n",
    "lin_reg = LinearRegression()\n",
    "\n",
    "lin_reg_CV_score = cross_val_score(lin_reg, X_train_pca, y_train_pca, cv=5)\n",
    "print('Linear regression CV scores: ', lin_reg_CV_score)\n",
    "print('Linear regression avg. CV score: ', lin_reg_CV_score.mean())\n",
    "\n",
    "lin_reg.fit(X_train_pca, y_train_pca)\n",
    "\n",
    "lin_reg_win_pct, lin_reg_bankroll_trended_df, eval_df, wins = eval_winnings(lin_reg, X_test_pca, test_game_ids, confidence_threshold=7)\n",
    "print('Test set win percentage: ', lin_reg_win_pct)"
   ]
  },
  {
   "cell_type": "code",
   "execution_count": null,
   "id": "0585790f",
   "metadata": {},
   "outputs": [],
   "source": [
    "lin_reg_bankroll_trended_df.head()"
   ]
  },
  {
   "cell_type": "code",
   "execution_count": null,
   "id": "467b31f1",
   "metadata": {},
   "outputs": [],
   "source": [
    "reg_season = lin_reg_bankroll_trended_df[lin_reg_bankroll_trended_df['date'] < '2022-04-01']\n",
    "plt.plot(reg_season['date'], reg_season['bankroll'])"
   ]
  },
  {
   "cell_type": "code",
   "execution_count": null,
   "id": "e9c43de2",
   "metadata": {},
   "outputs": [],
   "source": [
    "#examine performance of 2017-18 regular season\n",
    "'''\n",
    "bankroll_17_18 = lin_reg_bankroll_trended_df[lin_reg_bankroll_trended_df['date'] < '2018-04-01']\n",
    "print(bankroll_17_18['bankroll'].iloc[-1])\n",
    "plt.plot(bankroll_17_18['date'], bankroll_17_18['bankroll'])\n",
    "'''"
   ]
  },
  {
   "cell_type": "code",
   "execution_count": null,
   "id": "2e6ee869",
   "metadata": {},
   "outputs": [],
   "source": [
    "#SCRATCH CELL\n",
    "eval_df['WINS'] = wins\n",
    "eval_df['SPREAD_DIFF'] = abs(eval_df['SPREAD_AWAY'] - eval_df['SPREADS_PRED'])\n",
    "plt.hist(eval_df['SPREAD_DIFF'])\n",
    "#eval_df.head()"
   ]
  },
  {
   "cell_type": "code",
   "execution_count": null,
   "id": "7a2aca0f",
   "metadata": {},
   "outputs": [],
   "source": [
    "eval_df['SPREAD_DIFF_UNDER_2'] = eval_df['SPREAD_DIFF'] < 2\n",
    "eval_df['SPREAD_DIFF_2_5'] = (eval_df['SPREAD_DIFF'] >= 2) & (eval_df['SPREAD_DIFF'] < 5) \n",
    "eval_df['SPREAD_DIFF_5_10'] = (eval_df['SPREAD_DIFF'] >= 5) & (eval_df['SPREAD_DIFF'] < 10) \n",
    "eval_df['SPREAD_DIFF_OVER_10'] = (eval_df['SPREAD_DIFF'] >= 10)\n"
   ]
  },
  {
   "cell_type": "code",
   "execution_count": null,
   "id": "d66a5401",
   "metadata": {},
   "outputs": [],
   "source": [
    "diff_under_2_df = eval_df[eval_df['SPREAD_DIFF_UNDER_2']] \n",
    "print(sum(diff_under_2_df['WINS']==1) / (sum(diff_under_2_df['WINS']==1) + sum(diff_under_2_df['WINS']==-1)))\n",
    "\n",
    "diff_2_5_df = eval_df[eval_df['SPREAD_DIFF_2_5']] \n",
    "print(sum(diff_2_5_df['WINS']==1) / (sum(diff_2_5_df['WINS']==1) + sum(diff_2_5_df['WINS']==-1)))\n",
    "\n",
    "diff_5_10_df = eval_df[eval_df['SPREAD_DIFF_5_10']] \n",
    "print(sum(diff_5_10_df['WINS']==1) / (sum(diff_5_10_df['WINS']==1) + sum(diff_5_10_df['WINS']==-1)))\n",
    "\n",
    "diff_over_10_df = eval_df[eval_df['SPREAD_DIFF_OVER_10']] \n",
    "print(sum(diff_over_10_df['WINS']==1) / (sum(diff_over_10_df['WINS']==1) + sum(diff_over_10_df['WINS']==-1)))\n",
    "\n"
   ]
  },
  {
   "cell_type": "code",
   "execution_count": null,
   "id": "aa762c6e",
   "metadata": {},
   "outputs": [],
   "source": [
    "#Test different confidence thresholds\n",
    "threshold = 7\n",
    "\n",
    "threshold_test_df = eval_df[eval_df['SPREAD_DIFF'] >= threshold] \n",
    "win_pct = sum(threshold_test_df['WINS']==1) / (sum(threshold_test_df['WINS']==1) + sum(threshold_test_df['WINS']==-1))\n",
    "\n",
    "print('Win percentage: ', win_pct)\n",
    "\n",
    "bet_pct = len(threshold_test_df) / len(eval_df[eval_df['WINS']!=0])\n",
    "print('Percentage of total possible bets placed: ', bet_pct)"
   ]
  },
  {
   "cell_type": "code",
   "execution_count": null,
   "id": "4c0bffbd",
   "metadata": {},
   "outputs": [],
   "source": [
    "#polynomial regression\n",
    "degree = 2\n",
    "poly=PolynomialFeatures(degree)\n",
    "X_train_poly = poly.fit_transform(X_train_pca)\n",
    "X_test_poly = poly.fit_transform(X_test_pca)\n",
    "poly_reg = LinearRegression()\n",
    "\n",
    "poly_reg_CV_score = cross_val_score(poly_reg, X_train_poly, y_train_pca, cv=5)\n",
    "print('Polynomial regression CV scores: ', poly_reg_CV_score)\n",
    "print('Polynomial regression avg. CV score: ', poly_reg_CV_score.mean())\n",
    "\n",
    "poly_reg.fit(X_train_poly, y_train_pca)\n",
    "\n",
    "poly_reg_win_pct, poly_reg_bankroll_trended_df = eval_winnings(poly_reg, X_test_poly, test_game_ids)[:2]\n",
    "print('Test set win percentage: ', poly_reg_win_pct)"
   ]
  },
  {
   "cell_type": "code",
   "execution_count": null,
   "id": "e9619076",
   "metadata": {},
   "outputs": [],
   "source": [
    "#Random Forrest implementation\n",
    "#Baseline RF CV results\n",
    "\n",
    "rf = RandomForestRegressor()\n",
    "rf_score = cross_val_score(rf, X_train_pca, y_train_pca, cv=5)\n",
    "print('Random forest CV scores: ', rf_score)\n",
    "print('Random forest avg. CV score: ', rf_score.mean())\n",
    "\n",
    "rf.fit(X_train_pca, y_train_pca)\n",
    "rf_win_pct, rf_bankroll_trended_df = eval_winnings(rf, X_test_pca, test_game_ids)[:2]\n",
    "print('Test set win percentage: ', rf_win_pct)\n"
   ]
  },
  {
   "cell_type": "code",
   "execution_count": null,
   "id": "1d1a2b9c",
   "metadata": {},
   "outputs": [],
   "source": [
    "#xgboost\n",
    "xgb = XGBRegressor()\n",
    "\n",
    "xgb_score = cross_val_score(xgb, X_train_pca, y_train_pca, cv=5)\n",
    "print('XGBoost CV scores: ', xgb_score)\n",
    "print('XGBoost avg. CV score: ', xgb_score.mean())\n",
    "\n",
    "xgb.fit(X_train_pca, y_train_pca)\n",
    "\n",
    "xgb_win_pct, xgb_bankroll_trended_df = eval_winnings(xgb, X_test_pca, test_game_ids)[:2]\n",
    "print('Test set win percentage: ', xgb_win_pct)"
   ]
  },
  {
   "cell_type": "code",
   "execution_count": null,
   "id": "f47d1190",
   "metadata": {},
   "outputs": [],
   "source": [
    "#KNN\n",
    "knn = KNeighborsRegressor()\n",
    "\n",
    "knn_score = cross_val_score(knn, X_train_pca, y_train_pca, cv=5)\n",
    "print('KNN CV scores: ', knn_score)\n",
    "print('KNN avg. CV score: ', knn_score.mean())\n",
    "\n",
    "knn.fit(X_train_pca, y_train_pca)\n",
    "\n",
    "knn_win_pct, knn_bankroll_trended_df = eval_winnings(knn, X_test_pca, test_game_ids)[:2]\n",
    "print('Test set win percentage: ', knn_win_pct)"
   ]
  },
  {
   "cell_type": "code",
   "execution_count": null,
   "id": "04b8444d",
   "metadata": {},
   "outputs": [],
   "source": [
    "#DELETE CELL\n",
    "#evaluate baseline polynomical regression model\n",
    "poly_reg = LinearRegression()\n",
    "eval_model(poly_reg, X_train_poly, y_train_pca, X_test_poly, test_game_ids)"
   ]
  },
  {
   "cell_type": "code",
   "execution_count": null,
   "id": "398503c8",
   "metadata": {},
   "outputs": [],
   "source": [
    "#score on training and test data to check for overfitting\n",
    "training_score = poly_reg.score(X_train_poly, y_train_pca)\n",
    "test_score = poly_reg.score(X_test_poly, y_test_pca)\n",
    "\n",
    "print('Training score: ', training_score)\n",
    "print('Test score: ', test_score)"
   ]
  },
  {
   "cell_type": "code",
   "execution_count": null,
   "id": "d63e0ee2",
   "metadata": {},
   "outputs": [],
   "source": [
    "plt.plot(bankroll_trended_df['date'], bankroll_trended_df['bankroll'])"
   ]
  },
  {
   "cell_type": "code",
   "execution_count": null,
   "id": "657be8a6",
   "metadata": {},
   "outputs": [],
   "source": [
    "print(bankroll_trended_df)"
   ]
  },
  {
   "cell_type": "code",
   "execution_count": null,
   "id": "a37206c4",
   "metadata": {},
   "outputs": [],
   "source": [
    "bankroll_trended_df_17_18 = bankroll_trended_df[('2017-10-01'<bankroll_trended_df['date']) &\n",
    "                                                (bankroll_trended_df['date']<'2018-07-01')]\n",
    "bankroll_trended_df_18_19 = bankroll_trended_df[('2018-10-01'<bankroll_trended_df['date']) &\n",
    "                                                (bankroll_trended_df['date']<'2019-07-01')]\n",
    "bankroll_trended_df_19_20 = bankroll_trended_df[('2019-10-01'<bankroll_trended_df['date']) &\n",
    "                                                (bankroll_trended_df['date']<'2020-07-01')]\n",
    "bankroll_trended_df_20_21 = bankroll_trended_df[('2020-10-01'<bankroll_trended_df['date']) &\n",
    "                                                (bankroll_trended_df['date']<'2021-07-01')]\n",
    "bankroll_trended_df_21_22 = bankroll_trended_df[('2021-10-01'<bankroll_trended_df['date']) &\n",
    "                                                (bankroll_trended_df['date']<'2022-07-01')]"
   ]
  },
  {
   "cell_type": "code",
   "execution_count": null,
   "id": "9fd2ab67",
   "metadata": {},
   "outputs": [],
   "source": [
    "plt.plot(bankroll_trended_df_21_22['date'], bankroll_trended_df_21_22['bankroll'])"
   ]
  },
  {
   "cell_type": "code",
   "execution_count": null,
   "id": "3132f9cc",
   "metadata": {},
   "outputs": [],
   "source": [
    "#implement ridge regression\n",
    "#ridge regression did not significantly improve performance of baseline linear regression\n",
    "'''\n",
    "ridge_reg = Ridge()\n",
    "alpha = np.logspace(1e-5, 1, 100)\n",
    "grid = {'alpha' : alpha}\n",
    "\n",
    "ridge_reg = GridSearchCV(estimator=ridge_reg, param_grid=grid, cv=5, verbose=5)\n",
    "ridge_reg.fit(X_train_poly, y_train_pca)\n",
    "print('Best score: ', ridge_reg.best_score_)\n",
    "'''"
   ]
  },
  {
   "cell_type": "code",
   "execution_count": null,
   "id": "386177b0",
   "metadata": {},
   "outputs": [],
   "source": [
    "#Tuned RF\n",
    "#create hyperparameter grid\n",
    "\n",
    "'''\n",
    "rf = RandomForestRegressor()\n",
    "n_estimators = [int(x) for x inn np.linspace(50, 500, num=10)]\n",
    "max_features =['auto', 'sqrt']\n",
    "max_depth = [int(x) for x in np.linspace(10, 50, num=10)]\n",
    "max_depth.append(None)\n",
    "min_samples_split = [2, 5, 10]\n",
    "min_samples_leaf = [1, 2, 5]\n",
    "bootstrap = [True, False]\n",
    "\n",
    "random_grid = {'n_estimators': n_estimators,\n",
    "               'max_features': max_features,\n",
    "               'max_depth': max_depth,\n",
    "               'min_samples_split': min_samples_split,\n",
    "               'min_samples_leaf': min_samples_leaf,\n",
    "               'bootstrap': bootstrap}\n",
    "\n",
    "rf_random = RandomizedSearchCV(estimator=rf, param_distributions=random_grid, n_iter=100, cv=3, verbose=10, random_state=31, n_jobs=-1)\n",
    "\n",
    "rf_random.fit(X_train, y_train)\n",
    "'''"
   ]
  },
  {
   "cell_type": "code",
   "execution_count": null,
   "id": "d941958e",
   "metadata": {},
   "outputs": [],
   "source": []
  }
 ],
 "metadata": {
  "kernelspec": {
   "display_name": "Python 3",
   "language": "python",
   "name": "python3"
  },
  "language_info": {
   "codemirror_mode": {
    "name": "ipython",
    "version": 3
   },
   "file_extension": ".py",
   "mimetype": "text/x-python",
   "name": "python",
   "nbconvert_exporter": "python",
   "pygments_lexer": "ipython3",
   "version": "3.8.8"
  }
 },
 "nbformat": 4,
 "nbformat_minor": 5
}
