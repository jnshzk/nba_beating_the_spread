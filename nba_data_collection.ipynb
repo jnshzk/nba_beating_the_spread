{
 "cells": [
  {
   "cell_type": "markdown",
   "id": "59d4ccf2",
   "metadata": {},
   "source": [
    "This script pulls team-level boxscore data from the nba.com api.  For the purposes of this project, I pulled boxscore data from the 2000-01 season through the 2021-22 season.\n",
    "\n",
    "Credit to jnish23 for the helper functions used below."
   ]
  },
  {
   "cell_type": "code",
   "execution_count": 1,
   "id": "b55f1265",
   "metadata": {},
   "outputs": [],
   "source": [
    "from nba_api.stats.static import players, teams\n",
    "from nba_api.stats.library.parameters import SeasonAll\n",
    "from nba_api.stats.endpoints import leaguegamelog\n",
    "from nba_api.stats.endpoints import boxscoreadvancedv2\n",
    "from nba_api.stats.endpoints import boxscorescoringv2\n",
    "\n",
    "import random\n",
    "import pandas as pd\n",
    "import numpy as np\n",
    "from tqdm import tqdm\n",
    "import time as time\n",
    "from time import sleep\n",
    "from IPython.core.display import clear_output\n",
    "import sqlite3"
   ]
  },
  {
   "cell_type": "code",
   "execution_count": 2,
   "id": "89f8c83f",
   "metadata": {},
   "outputs": [],
   "source": [
    "def season_string(season):\n",
    "    return str(season) + '-' + str(season+1)[-2:]"
   ]
  },
  {
   "cell_type": "code",
   "execution_count": 3,
   "id": "daba77f5",
   "metadata": {},
   "outputs": [],
   "source": [
    "def add_basic_boxscores(conn, start_season, end_season, if_exists='append'):\n",
    "    \"\"\"This function pulls basic team boxscores from the NBA_API package \n",
    "    and appends (or creates a new table if not exists) it to the table team_basic_boxscores in the sqlite db\"\"\"\n",
    "    \n",
    "    cur = conn.cursor()\n",
    "    table_name = 'team_basic_boxscores'\n",
    "    \n",
    "    if if_exists == 'replace':\n",
    "        cur.execute('DROP TABLE IF EXISTS ' + table_name)\n",
    "        cur.execute('VACUUM')\n",
    "        \n",
    "    cur.execute(\"\"\"CREATE TABLE IF NOT EXISTS {} (SEASON TEXT, TEAM_ID INTEGER, TEAM_ABBREVIATION TEXT, \n",
    "        TEAM_NAME TEXT, GAME_ID TEXT, GAME_DATE DATE, MATCHUP TEXT, WL TEXT, MIN INTEGER, FGM INTEGER, FGA INTEGER, \n",
    "        FG_PCT FLOAT, FG3M INTEGER, FG3A  INTEGER, FG3_PCT FLOAT, FTM INTEGER, FTA INTEGER, FT_PCT FLOAT, OREB INTEGER,\n",
    "        DREB INTEGER, REB INTEGER, AST INTEGER, STL INTEGER, BLK INTEGER, TOV INTEGER, PF INTEGER, PTS INTEGER, \n",
    "        PLUS_MINUS INTEGER)\"\"\".format(table_name))    \n",
    "    \n",
    "    for season in tqdm(range(start_season, end_season+1)):\n",
    "        season_str = season_string(season)\n",
    "        season_boxscores = []\n",
    "\n",
    "        for season_type in ['Regular Season', 'Playoffs']:\n",
    "            boxscores = leaguegamelog.LeagueGameLog(season=season_str, season_type_all_star=season_type).get_data_frames()[0]\n",
    "            season_boxscores.append(boxscores)\n",
    "            sleep(2)\n",
    "        season_df = pd.concat(season_boxscores)\n",
    "        season_df['SEASON'] = season_str\n",
    "        season_df.drop(columns = ['SEASON_ID', 'VIDEO_AVAILABLE'], inplace=True)\n",
    "        \n",
    "        season_df.to_sql(table_name, conn, if_exists='append', index=False)\n",
    "        \n",
    "        sleep(3)\n",
    "        \n",
    "    #cur = conn.cursor()\n",
    "    cur.execute('DELETE FROM {} WHERE rowid NOT IN (SELECT min(rowid) FROM {} GROUP BY TEAM_ID, GAME_ID)'.format(table_name, table_name))\n",
    "    conn.commit()\n",
    "    \n",
    "    return None"
   ]
  },
  {
   "cell_type": "code",
   "execution_count": 4,
   "id": "7928ca9a",
   "metadata": {},
   "outputs": [],
   "source": [
    "def add_advanced_boxscores(conn, start_season, end_season, if_exists='append'):\n",
    "    \"\"\"\n",
    "    This function pulls advanced team boxscores from the NBA_API package \n",
    "    and appends (or creates a new table if not exists) it to the table team_advanced_boxscores in the sqlite db\n",
    "    \n",
    "    Note: Because of timeout errors and that we have to pull each game's individually, each season takes 1-2 hours.\n",
    "    If some games were not pulled in certain seasons, you can use the update functions to gather those individual games.\n",
    "    \"\"\"\n",
    "    \n",
    "    table_name = 'team_advanced_boxscores'\n",
    "    game_ids_not_added = []\n",
    "    \n",
    "    if if_exists == 'replace':\n",
    "        conn.execute('DROP TABLE IF EXISTS ' + table_name)\n",
    "        conn.execute('VACUUM')\n",
    "    \n",
    "    conn.execute('''CREATE TABLE IF NOT EXISTS {} (GAME_ID TEXT, TEAM_ID INTEGER, TEAM_NAME TEXT, \n",
    "        TEAM_ABBREVIATION TEXT, TEAM_CITY TEXT, MIN TEXT, E_OFF_RATING FLOAT, OFF_RATING FLOAT, E_DEF_RATING FLOAT, \n",
    "        DEF_RATING FLOAT, E_NET_RATING FLOAT, NET_RATING FLOAT, AST_PCT FLOAT, AST_TOV FLOAT, \n",
    "        AST_RATIO FLOAT, OREB_PCT FLOAT, DREB_PCT FLOAT, REB_PCT FLOAT, E_TM_TOV_PCT FLOAT, \n",
    "        TM_TOV_PCT FLOAT, EFG_PCT FLOAT, TS_PCT FLOAT, USG_PCT FLOAT, E_USG_PCT FLOAT, E_PACE FLOAT, \n",
    "        PACE FLOAT, PACE_PER40 FLOAT, POSS FLOAT, PIE FLOAT)'''.format(table_name))\n",
    "    \n",
    "    \n",
    "    for season in range(start_season, end_season+1):\n",
    "        season_str = season_string(season)\n",
    "        season_team_boxscores = []\n",
    "\n",
    "        for season_type in ['Regular Season', 'Playoffs']:\n",
    "            logs = leaguegamelog.LeagueGameLog(season=season, season_type_all_star=season_type).get_data_frames()[0]\n",
    "            game_ids = logs['GAME_ID'].unique()\n",
    "\n",
    "            for i in range(0, len(game_ids), 100):\n",
    "                print('games {} to {}'.format(i, i+100))\n",
    "                for game_id in tqdm(game_ids[i:i+100], desc='progress'):\n",
    "                    try:\n",
    "                        team_boxscores = boxscoreadvancedv2.BoxScoreAdvancedV2(game_id).get_data_frames()[1]                    \n",
    "                        team_boxscores.to_sql(table_name, conn, if_exists='append', index=False)\n",
    "                    except:\n",
    "                        game_ids_not_added.append(game_id)\n",
    "                    sleep(2)\n",
    "                sleep(120)\n",
    "                clear_output(wait=True)\n",
    "        \n",
    "        sleep(120)\n",
    "        \n",
    "    cur = conn.cursor()\n",
    "    cur.execute('DELETE FROM {} WHERE rowid NOT IN (SELECT min(rowid) FROM {} GROUP BY TEAM_ID, GAME_ID)'.format(table_name, table_name))\n",
    "    conn.commit()\n",
    "    print(len(game_ids_not_added), ' games not added')\n",
    "    return game_ids_not_added"
   ]
  },
  {
   "cell_type": "code",
   "execution_count": 5,
   "id": "7c367b2b",
   "metadata": {},
   "outputs": [],
   "source": [
    "def add_scoring_boxscores(conn, start_season, end_season, if_exists='append'):\n",
    "    \"\"\"\n",
    "    This function pulls scoring team boxscores from the NBA_API package \n",
    "    and appends (or creates a new table if not exists) it to the table team_scoring_boxscores in the sqlite db.\n",
    "    \n",
    "    Note: Because of timeout errors and that we have to pull each game's individually, each season takes 1-2 hours.\n",
    "    If some games were not pulled in certain seasons, you can use the update functions to gather those individual games.\n",
    "    \"\"\"\n",
    "    \n",
    "    table_name = 'team_scoring_boxscores'\n",
    "    game_ids_not_added = []\n",
    "\n",
    "    if if_exists == 'replace':\n",
    "        conn.execute('DROP TABLE IF EXISTS ' + table_name)\n",
    "        conn.execute('VACUUM')\n",
    "    \n",
    "    conn.execute('''GAME_ID TEXT, TEAM_ID INTEGER, TEAM_NAME TEXT, TEAM_ABBREVIATION TEXT, TEAM_CITY TEXT,\n",
    "       MIN TEXT, PCT_FGA_2PT FLOAT, PCT_FGA_3PT FLOAT, PCT_PTS_2PT FLOAT, PCT_PTS_2PT_MR FLOAT,\n",
    "       PCT_PTS_3PT FLOAT, PCT_PTS_FB FLOAT, PCT_PTS_FT FLOAT, PCT_PTS_OFF_TOV FLOAT,\n",
    "       PCT_PTS_PAINT FLOAT, PCT_AST_2PM FLOAT, PCT_UAST_2PM FLOAT, PCT_AST_3PM FLOAT,\n",
    "       PCT_UAST_3PM FLOAT, PCT_AST_FGM FLOAT, PCT_UAST_FGM FLOAT)'''.format(table_name))\n",
    "    \n",
    "    \n",
    "    for season in range(start_season, end_season+1):\n",
    "        season_str = season_string(season)\n",
    "        season_team_boxscores = []\n",
    "\n",
    "        for season_type in ['Regular Season', 'Playoffs']:\n",
    "            logs = leaguegamelog.LeagueGameLog(season=season, season_type_all_star=season_type).get_data_frames()[0]\n",
    "            game_ids = logs['GAME_ID'].unique()\n",
    "\n",
    "            for i in range(0, len(game_ids), 100):\n",
    "                print('games {} to {}'.format(i, i+100))\n",
    "                for game_id in tqdm(game_ids[i:i+100], desc='progress'):\n",
    "                    try:\n",
    "                        scoring_boxscores = boxscorescoringv2.BoxScoreScoringV2(game_id).get_data_frames()[1]\n",
    "                        scoring_boxscores.to_sql(table_name, conn, if_exists='append', index=False)\n",
    "                    except:\n",
    "                        game_ids_not_added.append(game_id)\n",
    "                    sleep(2)\n",
    "                sleep(120)\n",
    "                clear_output(wait=True)\n",
    "        print(season_str, ' completed')\n",
    "        sleep(120)\n",
    "        \n",
    "    cur = conn.cursor()\n",
    "    cur.execute('DELETE FROM {} WHERE rowid NOT IN (SELECT min(rowid) FROM {} GROUP BY TEAM_ID, GAME_ID)'.format(table_name, table_name))\n",
    "    conn.commit()\n",
    "    \n",
    "    return game_ids_not_added"
   ]
  },
  {
   "cell_type": "code",
   "execution_count": 6,
   "id": "f2fdf369",
   "metadata": {},
   "outputs": [],
   "source": [
    "## Update basic team gamelogs and player gamelogs\n",
    "\n",
    "def update_team_basic_boxscores(conn, season):\n",
    "    table_name = 'team_basic_boxscores'\n",
    "    season_str = season_string(season)\n",
    "        \n",
    "    dfs = []\n",
    "    for season_type in ['Regular Season', 'Playoffs']:\n",
    "        team_gamelogs = leaguegamelog.LeagueGameLog(season=season_str, season_type_all_star=season_type).get_data_frames()[0]\n",
    "        dfs.append(team_gamelogs)\n",
    "        \n",
    "    team_gamelogs_updated = pd.concat(dfs)\n",
    "    team_gamelogs_updated['SEASON'] = season_str\n",
    "    team_gamelogs_updated.drop(columns = ['SEASON_ID', 'VIDEO_AVAILABLE'], inplace=True)\n",
    "    \n",
    "    team_gamelogs_updated.to_sql(table_name, conn, if_exists='append', index=False)\n",
    "\n",
    "    cur = conn.cursor()\n",
    "    cur.execute('DELETE FROM {} WHERE rowid NOT IN (SELECT min(rowid) FROM {} GROUP BY TEAM_ID, GAME_ID)'.format(table_name, table_name))\n",
    "    conn.commit()\n",
    "    \n",
    "    return None"
   ]
  },
  {
   "cell_type": "code",
   "execution_count": 7,
   "id": "e737b965",
   "metadata": {},
   "outputs": [],
   "source": [
    "def update_team_advanced_boxscores(conn, season, dates):\n",
    "    table_name = 'team_advanced_boxscores'\n",
    "    \n",
    "    season_str = season_string(season)\n",
    "    \n",
    "    game_ids_not_added = []\n",
    "    \n",
    "    # Pull the GAME_IDs from my data\n",
    "    game_ids_in_db = pd.read_sql('''SELECT DISTINCT team_basic_boxscores.GAME_ID FROM team_basic_boxscores\n",
    "                INNER JOIN team_advanced_boxscores \n",
    "                ON team_basic_boxscores.GAME_ID = team_advanced_boxscores.GAME_ID\n",
    "                AND team_basic_boxscores.TEAM_ID = team_advanced_boxscores.TEAM_ID\n",
    "                WHERE SEASON = \"{}\" '''.format(season_str), conn)\n",
    "\n",
    "    game_ids_in_db = game_ids_in_db['GAME_ID'].tolist()\n",
    "    \n",
    "    missing_game_ids = []\n",
    "    if len(dates) != 0:\n",
    "        for date in dates:\n",
    "            gamelogs = leaguegamelog.LeagueGameLog(\n",
    "                season=season_str, date_from_nullable=date, date_to_nullable=date).get_data_frames()[0]\n",
    "            missing_game_ids.extend(gamelogs['GAME_ID'].unique())\n",
    "            \n",
    "    else:        \n",
    "        # get up to date GAME_IDs\n",
    "        to_date_game_ids = []\n",
    "        for season_type in ['Regular Season', 'Playoffs']:\n",
    "            to_date_gamelogs = leaguegamelog.LeagueGameLog(season=season_str, season_type_all_star=season_type).get_data_frames()[0]\n",
    "            to_date_game_ids.extend(to_date_gamelogs['GAME_ID'].unique())\n",
    "\n",
    "        # See which game_ids are missing\n",
    "        missing_game_ids = set(to_date_game_ids) - set(game_ids_in_db)\n",
    "        \n",
    "    num_games_updated = len(missing_game_ids)\n",
    "    print(\"num_games_updated:\", num_games_updated)\n",
    "    \n",
    "    if num_games_updated == 0:\n",
    "        print(\"All team advanced boxscores up to date in season {}\".format(season_str))\n",
    "        return None\n",
    "    \n",
    "    for game_id in tqdm(missing_game_ids, desc='progress'):\n",
    "        try:\n",
    "            boxscores = boxscoreadvancedv2.BoxScoreAdvancedV2(game_id).get_data_frames()[1]\n",
    "            boxscores.to_sql(table_name, conn, if_exists='append', index=False)\n",
    "            sleep(2)\n",
    "        except:\n",
    "            game_ids_not_added.append(game_id)  \n",
    "    \n",
    "    cur = conn.cursor()\n",
    "    cur.execute('DELETE FROM {} WHERE rowid NOT IN (SELECT max(rowid) FROM {} GROUP BY TEAM_ID, GAME_ID)'.format(table_name, table_name))\n",
    "    conn.commit()\n",
    "    \n",
    "    return game_ids_not_added"
   ]
  },
  {
   "cell_type": "code",
   "execution_count": 8,
   "id": "97f79e69",
   "metadata": {},
   "outputs": [],
   "source": [
    "def update_team_scoring_boxscores(conn, season, dates):\n",
    "    table_name = 'team_scoring_boxscores'\n",
    "\n",
    "    season_str = season_string(season)\n",
    "\n",
    "    game_ids_not_added = []\n",
    "\n",
    "    # Pull the GAME_IDs from my data\n",
    "    game_ids_in_db = pd.read_sql(f'''SELECT DISTINCT team_scoring_boxscores.GAME_ID FROM team_basic_boxscores\n",
    "                INNER JOIN team_scoring_boxscores \n",
    "                ON team_basic_boxscores.GAME_ID = team_scoring_boxscores.GAME_ID\n",
    "                AND team_basic_boxscores.TEAM_ID = team_scoring_boxscores.TEAM_ID\n",
    "                WHERE SEASON = \"{season_str}\" ''', conn)\n",
    "\n",
    "    game_ids_in_db = game_ids_in_db['GAME_ID'].tolist()\n",
    "\n",
    "    missing_game_ids = []\n",
    "    if len(dates) != 0:\n",
    "        for date in dates:\n",
    "            gamelogs = leaguegamelog.LeagueGameLog(\n",
    "                season=season_str, date_from_nullable=date, date_to_nullable=date).get_data_frames()[0]\n",
    "            missing_game_ids.extend(gamelogs['GAME_ID'].unique())\n",
    "\n",
    "    else:\n",
    "        # get up to date GAME_IDs\n",
    "        to_date_game_ids = []\n",
    "        for season_type in ['Regular Season', 'Playoffs']:\n",
    "            to_date_gamelogs = leaguegamelog.LeagueGameLog(\n",
    "                season=season_str, season_type_all_star=season_type).get_data_frames()[0]\n",
    "            to_date_game_ids.extend(to_date_gamelogs['GAME_ID'].unique())\n",
    "\n",
    "        # See which game_ids are missing\n",
    "        missing_game_ids = set(to_date_game_ids) - set(game_ids_in_db)\n",
    "        \n",
    "    num_games_updated = len(missing_game_ids)\n",
    "    print(\"num_games_updated:\", num_games_updated)\n",
    "\n",
    "    if num_games_updated == 0:\n",
    "        print(\"All team advanced boxscores up to date in season {}\".format(season_str))\n",
    "        return None\n",
    "\n",
    "    for game_id in tqdm(missing_game_ids, desc='progress'):\n",
    "        try:\n",
    "            boxscores = boxscorescoringv2.BoxScoreScoringV2(\n",
    "                game_id).get_data_frames()[1]\n",
    "            boxscores.to_sql(table_name, conn,\n",
    "                             if_exists='append', index=False)\n",
    "            sleep(2)\n",
    "        except:\n",
    "            game_ids_not_added.append(game_id)\n",
    "\n",
    "    cur = conn.cursor()\n",
    "    cur.execute('DELETE FROM {} WHERE rowid NOT IN (SELECT max(rowid) FROM {} GROUP BY TEAM_ID, GAME_ID)'.format(\n",
    "        table_name, table_name))\n",
    "    conn.commit()\n",
    "\n",
    "    return game_ids_not_added"
   ]
  },
  {
   "cell_type": "code",
   "execution_count": 9,
   "id": "ca98b417",
   "metadata": {},
   "outputs": [],
   "source": [
    "#connect to sqlite database\n",
    "con = sqlite3.connect('/nba.db')"
   ]
  },
  {
   "cell_type": "code",
   "execution_count": 27,
   "id": "e852e4be",
   "metadata": {},
   "outputs": [
    {
     "name": "stderr",
     "output_type": "stream",
     "text": [
      "100%|██████████| 23/23 [03:16<00:00,  8.52s/it]\n"
     ]
    }
   ],
   "source": [
    "#pull basic boxscores from the 2000-01 to 2021-22 seasons\n",
    "add_basic_boxscores(con, 2000, 2022)"
   ]
  },
  {
   "cell_type": "code",
   "execution_count": 10,
   "id": "3d2b7610",
   "metadata": {},
   "outputs": [
    {
     "data": {
      "text/html": [
       "<div>\n",
       "<style scoped>\n",
       "    .dataframe tbody tr th:only-of-type {\n",
       "        vertical-align: middle;\n",
       "    }\n",
       "\n",
       "    .dataframe tbody tr th {\n",
       "        vertical-align: top;\n",
       "    }\n",
       "\n",
       "    .dataframe thead th {\n",
       "        text-align: right;\n",
       "    }\n",
       "</style>\n",
       "<table border=\"1\" class=\"dataframe\">\n",
       "  <thead>\n",
       "    <tr style=\"text-align: right;\">\n",
       "      <th></th>\n",
       "      <th>SEASON</th>\n",
       "      <th>TEAM_ID</th>\n",
       "      <th>TEAM_ABBREVIATION</th>\n",
       "      <th>TEAM_NAME</th>\n",
       "      <th>GAME_ID</th>\n",
       "      <th>GAME_DATE</th>\n",
       "      <th>MATCHUP</th>\n",
       "      <th>WL</th>\n",
       "      <th>MIN</th>\n",
       "      <th>FGM</th>\n",
       "      <th>...</th>\n",
       "      <th>OREB</th>\n",
       "      <th>DREB</th>\n",
       "      <th>REB</th>\n",
       "      <th>AST</th>\n",
       "      <th>STL</th>\n",
       "      <th>BLK</th>\n",
       "      <th>TOV</th>\n",
       "      <th>PF</th>\n",
       "      <th>PTS</th>\n",
       "      <th>PLUS_MINUS</th>\n",
       "    </tr>\n",
       "  </thead>\n",
       "  <tbody>\n",
       "    <tr>\n",
       "      <th>0</th>\n",
       "      <td>2021-22</td>\n",
       "      <td>1610612747</td>\n",
       "      <td>LAL</td>\n",
       "      <td>Los Angeles Lakers</td>\n",
       "      <td>0022100002</td>\n",
       "      <td>2021-10-19</td>\n",
       "      <td>LAL vs. GSW</td>\n",
       "      <td>L</td>\n",
       "      <td>240</td>\n",
       "      <td>45</td>\n",
       "      <td>...</td>\n",
       "      <td>5</td>\n",
       "      <td>40</td>\n",
       "      <td>45</td>\n",
       "      <td>21</td>\n",
       "      <td>7</td>\n",
       "      <td>4</td>\n",
       "      <td>18</td>\n",
       "      <td>25</td>\n",
       "      <td>114</td>\n",
       "      <td>-7</td>\n",
       "    </tr>\n",
       "    <tr>\n",
       "      <th>1</th>\n",
       "      <td>2021-22</td>\n",
       "      <td>1610612744</td>\n",
       "      <td>GSW</td>\n",
       "      <td>Golden State Warriors</td>\n",
       "      <td>0022100002</td>\n",
       "      <td>2021-10-19</td>\n",
       "      <td>GSW @ LAL</td>\n",
       "      <td>W</td>\n",
       "      <td>240</td>\n",
       "      <td>41</td>\n",
       "      <td>...</td>\n",
       "      <td>9</td>\n",
       "      <td>41</td>\n",
       "      <td>50</td>\n",
       "      <td>30</td>\n",
       "      <td>9</td>\n",
       "      <td>2</td>\n",
       "      <td>17</td>\n",
       "      <td>18</td>\n",
       "      <td>121</td>\n",
       "      <td>7</td>\n",
       "    </tr>\n",
       "    <tr>\n",
       "      <th>2</th>\n",
       "      <td>2021-22</td>\n",
       "      <td>1610612751</td>\n",
       "      <td>BKN</td>\n",
       "      <td>Brooklyn Nets</td>\n",
       "      <td>0022100001</td>\n",
       "      <td>2021-10-19</td>\n",
       "      <td>BKN @ MIL</td>\n",
       "      <td>L</td>\n",
       "      <td>240</td>\n",
       "      <td>37</td>\n",
       "      <td>...</td>\n",
       "      <td>5</td>\n",
       "      <td>39</td>\n",
       "      <td>44</td>\n",
       "      <td>19</td>\n",
       "      <td>3</td>\n",
       "      <td>9</td>\n",
       "      <td>13</td>\n",
       "      <td>17</td>\n",
       "      <td>104</td>\n",
       "      <td>-23</td>\n",
       "    </tr>\n",
       "    <tr>\n",
       "      <th>3</th>\n",
       "      <td>2021-22</td>\n",
       "      <td>1610612749</td>\n",
       "      <td>MIL</td>\n",
       "      <td>Milwaukee Bucks</td>\n",
       "      <td>0022100001</td>\n",
       "      <td>2021-10-19</td>\n",
       "      <td>MIL vs. BKN</td>\n",
       "      <td>W</td>\n",
       "      <td>240</td>\n",
       "      <td>48</td>\n",
       "      <td>...</td>\n",
       "      <td>13</td>\n",
       "      <td>41</td>\n",
       "      <td>54</td>\n",
       "      <td>25</td>\n",
       "      <td>8</td>\n",
       "      <td>9</td>\n",
       "      <td>8</td>\n",
       "      <td>19</td>\n",
       "      <td>127</td>\n",
       "      <td>23</td>\n",
       "    </tr>\n",
       "    <tr>\n",
       "      <th>4</th>\n",
       "      <td>2021-22</td>\n",
       "      <td>1610612754</td>\n",
       "      <td>IND</td>\n",
       "      <td>Indiana Pacers</td>\n",
       "      <td>0022100003</td>\n",
       "      <td>2021-10-20</td>\n",
       "      <td>IND @ CHA</td>\n",
       "      <td>L</td>\n",
       "      <td>240</td>\n",
       "      <td>42</td>\n",
       "      <td>...</td>\n",
       "      <td>8</td>\n",
       "      <td>43</td>\n",
       "      <td>51</td>\n",
       "      <td>29</td>\n",
       "      <td>2</td>\n",
       "      <td>10</td>\n",
       "      <td>17</td>\n",
       "      <td>24</td>\n",
       "      <td>122</td>\n",
       "      <td>-1</td>\n",
       "    </tr>\n",
       "  </tbody>\n",
       "</table>\n",
       "<p>5 rows × 28 columns</p>\n",
       "</div>"
      ],
      "text/plain": [
       "    SEASON     TEAM_ID TEAM_ABBREVIATION              TEAM_NAME     GAME_ID  \\\n",
       "0  2021-22  1610612747               LAL     Los Angeles Lakers  0022100002   \n",
       "1  2021-22  1610612744               GSW  Golden State Warriors  0022100002   \n",
       "2  2021-22  1610612751               BKN          Brooklyn Nets  0022100001   \n",
       "3  2021-22  1610612749               MIL        Milwaukee Bucks  0022100001   \n",
       "4  2021-22  1610612754               IND         Indiana Pacers  0022100003   \n",
       "\n",
       "    GAME_DATE      MATCHUP WL  MIN  FGM  ...  OREB  DREB  REB  AST  STL  BLK  \\\n",
       "0  2021-10-19  LAL vs. GSW  L  240   45  ...     5    40   45   21    7    4   \n",
       "1  2021-10-19    GSW @ LAL  W  240   41  ...     9    41   50   30    9    2   \n",
       "2  2021-10-19    BKN @ MIL  L  240   37  ...     5    39   44   19    3    9   \n",
       "3  2021-10-19  MIL vs. BKN  W  240   48  ...    13    41   54   25    8    9   \n",
       "4  2021-10-20    IND @ CHA  L  240   42  ...     8    43   51   29    2   10   \n",
       "\n",
       "   TOV  PF  PTS  PLUS_MINUS  \n",
       "0   18  25  114          -7  \n",
       "1   17  18  121           7  \n",
       "2   13  17  104         -23  \n",
       "3    8  19  127          23  \n",
       "4   17  24  122          -1  \n",
       "\n",
       "[5 rows x 28 columns]"
      ]
     },
     "execution_count": 10,
     "metadata": {},
     "output_type": "execute_result"
    }
   ],
   "source": [
    "#check basic boxscore data\n",
    "team_basic_boxscores_df = pd.read_sql('select * from team_basic_boxscores', con)\n",
    "team_basic_boxscores_df.head()"
   ]
  },
  {
   "cell_type": "code",
   "execution_count": 22,
   "id": "130fd8b6",
   "metadata": {},
   "outputs": [
    {
     "name": "stdout",
     "output_type": "stream",
     "text": [
      "4  games not added\n"
     ]
    }
   ],
   "source": [
    "#pull in advanced boxscore data.  Each season took a couple hours to pull, so the seasons were pulled individually\n",
    "game_ids_excluded = add_advanced_boxscores(con, 2003, 2003)"
   ]
  },
  {
   "cell_type": "code",
   "execution_count": 13,
   "id": "2bba38c9",
   "metadata": {},
   "outputs": [],
   "source": [
    "#concatenate advanced boxscore data. Since the data pull process was very slow I used three different devices to pull\n",
    "#in data separately. Here, I am concatenating the advanced boxscore data from the different devices\n",
    "\n",
    "team_advanced_boxscores_main = pd.read_csv('team_advanced_boxscores.csv')\n",
    "team_advanced_boxscores_1 = pd.read_csv('team_advanced_boxscores_151109060200.csv')\n",
    "team_advanced_boxscores_2 = pd.read_csv('team_advanced_boxscores_1410070501.csv')\n",
    "\n",
    "team_advanced_boxscores = pd.concat([team_advanced_boxscores_main, team_advanced_boxscores_1, team_advanced_boxscores_2])\n",
    "team_advanced_boxscores.drop(columns='Unnamed: 0', inplace=True)"
   ]
  },
  {
   "cell_type": "code",
   "execution_count": 14,
   "id": "4d89215d",
   "metadata": {},
   "outputs": [
    {
     "name": "stdout",
     "output_type": "stream",
     "text": [
      "56164\n"
     ]
    },
    {
     "data": {
      "text/html": [
       "<div>\n",
       "<style scoped>\n",
       "    .dataframe tbody tr th:only-of-type {\n",
       "        vertical-align: middle;\n",
       "    }\n",
       "\n",
       "    .dataframe tbody tr th {\n",
       "        vertical-align: top;\n",
       "    }\n",
       "\n",
       "    .dataframe thead th {\n",
       "        text-align: right;\n",
       "    }\n",
       "</style>\n",
       "<table border=\"1\" class=\"dataframe\">\n",
       "  <thead>\n",
       "    <tr style=\"text-align: right;\">\n",
       "      <th></th>\n",
       "      <th>GAME_ID</th>\n",
       "      <th>TEAM_ID</th>\n",
       "      <th>TEAM_NAME</th>\n",
       "      <th>TEAM_ABBREVIATION</th>\n",
       "      <th>TEAM_CITY</th>\n",
       "      <th>MIN</th>\n",
       "      <th>E_OFF_RATING</th>\n",
       "      <th>OFF_RATING</th>\n",
       "      <th>E_DEF_RATING</th>\n",
       "      <th>DEF_RATING</th>\n",
       "      <th>...</th>\n",
       "      <th>TM_TOV_PCT</th>\n",
       "      <th>EFG_PCT</th>\n",
       "      <th>TS_PCT</th>\n",
       "      <th>USG_PCT</th>\n",
       "      <th>E_USG_PCT</th>\n",
       "      <th>E_PACE</th>\n",
       "      <th>PACE</th>\n",
       "      <th>PACE_PER40</th>\n",
       "      <th>POSS</th>\n",
       "      <th>PIE</th>\n",
       "    </tr>\n",
       "  </thead>\n",
       "  <tbody>\n",
       "    <tr>\n",
       "      <th>0</th>\n",
       "      <td>22100002</td>\n",
       "      <td>1610612747</td>\n",
       "      <td>Lakers</td>\n",
       "      <td>LAL</td>\n",
       "      <td>Los Angeles</td>\n",
       "      <td>240:00</td>\n",
       "      <td>98.0</td>\n",
       "      <td>101.8</td>\n",
       "      <td>106.0</td>\n",
       "      <td>107.1</td>\n",
       "      <td>...</td>\n",
       "      <td>16.1</td>\n",
       "      <td>0.553</td>\n",
       "      <td>0.551</td>\n",
       "      <td>1.0</td>\n",
       "      <td>0.198</td>\n",
       "      <td>115.28</td>\n",
       "      <td>112.5</td>\n",
       "      <td>93.75</td>\n",
       "      <td>112.0</td>\n",
       "      <td>0.422</td>\n",
       "    </tr>\n",
       "    <tr>\n",
       "      <th>1</th>\n",
       "      <td>22100002</td>\n",
       "      <td>1610612744</td>\n",
       "      <td>Warriors</td>\n",
       "      <td>GSW</td>\n",
       "      <td>Golden State</td>\n",
       "      <td>240:00</td>\n",
       "      <td>106.0</td>\n",
       "      <td>107.1</td>\n",
       "      <td>98.0</td>\n",
       "      <td>101.8</td>\n",
       "      <td>...</td>\n",
       "      <td>15.0</td>\n",
       "      <td>0.516</td>\n",
       "      <td>0.570</td>\n",
       "      <td>1.0</td>\n",
       "      <td>0.200</td>\n",
       "      <td>115.28</td>\n",
       "      <td>112.5</td>\n",
       "      <td>93.75</td>\n",
       "      <td>113.0</td>\n",
       "      <td>0.578</td>\n",
       "    </tr>\n",
       "    <tr>\n",
       "      <th>2</th>\n",
       "      <td>22100001</td>\n",
       "      <td>1610612749</td>\n",
       "      <td>Bucks</td>\n",
       "      <td>MIL</td>\n",
       "      <td>Milwaukee</td>\n",
       "      <td>240:00</td>\n",
       "      <td>117.7</td>\n",
       "      <td>124.5</td>\n",
       "      <td>101.8</td>\n",
       "      <td>102.0</td>\n",
       "      <td>...</td>\n",
       "      <td>7.8</td>\n",
       "      <td>0.538</td>\n",
       "      <td>0.562</td>\n",
       "      <td>1.0</td>\n",
       "      <td>0.194</td>\n",
       "      <td>105.02</td>\n",
       "      <td>102.0</td>\n",
       "      <td>85.00</td>\n",
       "      <td>102.0</td>\n",
       "      <td>0.593</td>\n",
       "    </tr>\n",
       "    <tr>\n",
       "      <th>3</th>\n",
       "      <td>22100001</td>\n",
       "      <td>1610612751</td>\n",
       "      <td>Nets</td>\n",
       "      <td>BKN</td>\n",
       "      <td>Brooklyn</td>\n",
       "      <td>240:00</td>\n",
       "      <td>101.8</td>\n",
       "      <td>102.0</td>\n",
       "      <td>117.7</td>\n",
       "      <td>124.5</td>\n",
       "      <td>...</td>\n",
       "      <td>12.7</td>\n",
       "      <td>0.542</td>\n",
       "      <td>0.552</td>\n",
       "      <td>1.0</td>\n",
       "      <td>0.200</td>\n",
       "      <td>105.02</td>\n",
       "      <td>102.0</td>\n",
       "      <td>85.00</td>\n",
       "      <td>102.0</td>\n",
       "      <td>0.407</td>\n",
       "    </tr>\n",
       "    <tr>\n",
       "      <th>4</th>\n",
       "      <td>22100003</td>\n",
       "      <td>1610612754</td>\n",
       "      <td>Pacers</td>\n",
       "      <td>IND</td>\n",
       "      <td>Indiana</td>\n",
       "      <td>240:00</td>\n",
       "      <td>111.4</td>\n",
       "      <td>114.0</td>\n",
       "      <td>107.1</td>\n",
       "      <td>116.0</td>\n",
       "      <td>...</td>\n",
       "      <td>15.9</td>\n",
       "      <td>0.561</td>\n",
       "      <td>0.607</td>\n",
       "      <td>1.0</td>\n",
       "      <td>0.199</td>\n",
       "      <td>112.22</td>\n",
       "      <td>106.5</td>\n",
       "      <td>88.75</td>\n",
       "      <td>107.0</td>\n",
       "      <td>0.520</td>\n",
       "    </tr>\n",
       "  </tbody>\n",
       "</table>\n",
       "<p>5 rows × 29 columns</p>\n",
       "</div>"
      ],
      "text/plain": [
       "    GAME_ID     TEAM_ID TEAM_NAME TEAM_ABBREVIATION     TEAM_CITY     MIN  \\\n",
       "0  22100002  1610612747    Lakers               LAL   Los Angeles  240:00   \n",
       "1  22100002  1610612744  Warriors               GSW  Golden State  240:00   \n",
       "2  22100001  1610612749     Bucks               MIL     Milwaukee  240:00   \n",
       "3  22100001  1610612751      Nets               BKN      Brooklyn  240:00   \n",
       "4  22100003  1610612754    Pacers               IND       Indiana  240:00   \n",
       "\n",
       "   E_OFF_RATING  OFF_RATING  E_DEF_RATING  DEF_RATING  ...  TM_TOV_PCT  \\\n",
       "0          98.0       101.8         106.0       107.1  ...        16.1   \n",
       "1         106.0       107.1          98.0       101.8  ...        15.0   \n",
       "2         117.7       124.5         101.8       102.0  ...         7.8   \n",
       "3         101.8       102.0         117.7       124.5  ...        12.7   \n",
       "4         111.4       114.0         107.1       116.0  ...        15.9   \n",
       "\n",
       "   EFG_PCT  TS_PCT  USG_PCT  E_USG_PCT  E_PACE   PACE  PACE_PER40   POSS  \\\n",
       "0    0.553   0.551      1.0      0.198  115.28  112.5       93.75  112.0   \n",
       "1    0.516   0.570      1.0      0.200  115.28  112.5       93.75  113.0   \n",
       "2    0.538   0.562      1.0      0.194  105.02  102.0       85.00  102.0   \n",
       "3    0.542   0.552      1.0      0.200  105.02  102.0       85.00  102.0   \n",
       "4    0.561   0.607      1.0      0.199  112.22  106.5       88.75  107.0   \n",
       "\n",
       "     PIE  \n",
       "0  0.422  \n",
       "1  0.578  \n",
       "2  0.593  \n",
       "3  0.407  \n",
       "4  0.520  \n",
       "\n",
       "[5 rows x 29 columns]"
      ]
     },
     "execution_count": 14,
     "metadata": {},
     "output_type": "execute_result"
    }
   ],
   "source": [
    "print(len(team_advanced_boxscores))\n",
    "team_advanced_boxscores.head()"
   ]
  },
  {
   "cell_type": "code",
   "execution_count": 15,
   "id": "5cca0ec2",
   "metadata": {},
   "outputs": [],
   "source": [
    "#team_advanced_boxscores['GAME_ID'] = team_advanced_boxscores['GAME_ID'].astype('string')\n",
    "#team_advanced_boxscores['TEAM_ID'] = team_advanced_boxscores['TEAM_ID'].astype('string')\n",
    "\n",
    "team_advanced_boxscores['GAME_ID'] = '00' + team_advanced_boxscores['GAME_ID'].astype('string')\n",
    "#team_advanced_boxscores['TEAM_ID'] = team_advanced_boxscores['TEAM_ID'].astype('string')"
   ]
  },
  {
   "cell_type": "code",
   "execution_count": 16,
   "id": "54592bd7",
   "metadata": {},
   "outputs": [],
   "source": [
    "#find missing games in advanced boxscore data\n",
    "game_ids = list(team_basic_boxscores_df['GAME_ID'].unique())\n",
    "advanced_boxscore_game_ids = list(team_advanced_boxscores['GAME_ID'].unique())"
   ]
  },
  {
   "cell_type": "code",
   "execution_count": 17,
   "id": "f0257df8",
   "metadata": {},
   "outputs": [
    {
     "name": "stdout",
     "output_type": "stream",
     "text": [
      "28154\n",
      "28082\n",
      "73\n",
      "['0020300086' '0020300453' '0020300778' '0020300833' '0020400002'\n",
      " '0020400003' '0020400020' '0020400023' '0020400029' '0020400048'\n",
      " '0020400190' '0020400554' '0020500010' '0020500017' '0020500019'\n",
      " '0020500020' '0020500021' '0020500022' '0020500028' '0020500030'\n",
      " '0020500032' '0020500038' '0020600103' '0020600111' '0020600119'\n",
      " '0020600127' '0020600128' '0020600141' '0020600637' '0020600667'\n",
      " '0020600670' '0020600672' '0020600673' '0020600682' '0020700927'\n",
      " '0020700976' '0020701078' '0020800104' '0020800859' '0020801063'\n",
      " '0021000552' '0021001153' '0021201036' '0021201037' '0021201202'\n",
      " '0021201214' '0021300797' '0021400627' '0021500139' '0021500141'\n",
      " '0021500151' '0021600004' '0021700109' '0021701174' '0021800152'\n",
      " '0021800566' '0021800911' '0022000447' '0022100041' '0022100215'\n",
      " '0022100461' '0022100463' '0022100534' '0022100692' '0022101047'\n",
      " '0022101216' '0040800104' '0040800124' '0040800152' '0040800162'\n",
      " '0040800165' '0041700232' '0041800233']\n",
      "1\n",
      "['0042100405']\n"
     ]
    }
   ],
   "source": [
    "missing_game_ids = np.setdiff1d(game_ids, advanced_boxscore_game_ids)\n",
    "missing_game_ids_2 = np.setdiff1d(advanced_boxscore_game_ids, game_ids)\n",
    "print(len(game_ids))\n",
    "print(len(advanced_boxscore_game_ids))\n",
    "print(len(missing_game_ids))\n",
    "print(missing_game_ids)\n",
    "print(len(missing_game_ids_2))\n",
    "print(missing_game_ids_2)"
   ]
  },
  {
   "cell_type": "code",
   "execution_count": 21,
   "id": "46182a4e",
   "metadata": {},
   "outputs": [],
   "source": [
    "#save full, concatenated advanced boxscore data to sqlite database\n",
    "\n",
    "con.execute('''DROP TABLE team_advanced_boxscores''')\n",
    "con.execute('''CREATE TABLE IF NOT EXISTS {} (GAME_ID TEXT, TEAM_ID INTEGER, TEAM_NAME TEXT, \n",
    "        TEAM_ABBREVIATION TEXT, TEAM_CITY TEXT, MIN TEXT, E_OFF_RATING FLOAT, OFF_RATING FLOAT, E_DEF_RATING FLOAT, \n",
    "        DEF_RATING FLOAT, E_NET_RATING FLOAT, NET_RATING FLOAT, AST_PCT FLOAT, AST_TOV FLOAT, \n",
    "        AST_RATIO FLOAT, OREB_PCT FLOAT, DREB_PCT FLOAT, REB_PCT FLOAT, E_TM_TOV_PCT FLOAT, \n",
    "        TM_TOV_PCT FLOAT, EFG_PCT FLOAT, TS_PCT FLOAT, USG_PCT FLOAT, E_USG_PCT FLOAT, E_PACE FLOAT, \n",
    "        PACE FLOAT, PACE_PER40 FLOAT, POSS FLOAT, PIE FLOAT)'''.format('team_advanced_boxscores'))\n",
    "\n",
    "team_advanced_boxscores.to_sql('team_advanced_boxscores', con, if_exists='append', index=False)\n",
    "cur = con.cursor()\n",
    "cur.execute('DELETE FROM {} WHERE rowid NOT IN (SELECT min(rowid) FROM {} GROUP BY TEAM_ID, GAME_ID)'.format('team_advanced_boxscores', 'team_advanced_boxscores'))\n",
    "con.commit()"
   ]
  },
  {
   "cell_type": "code",
   "execution_count": 22,
   "id": "825a7800",
   "metadata": {},
   "outputs": [
    {
     "name": "stdout",
     "output_type": "stream",
     "text": [
      "73\n",
      "['0020300086' '0020300453' '0020300778' '0020300833' '0020400002'\n",
      " '0020400003' '0020400020' '0020400023' '0020400029' '0020400048'\n",
      " '0020400190' '0020400554' '0020500010' '0020500017' '0020500019'\n",
      " '0020500020' '0020500021' '0020500022' '0020500028' '0020500030'\n",
      " '0020500032' '0020500038' '0020600103' '0020600111' '0020600119'\n",
      " '0020600127' '0020600128' '0020600141' '0020600637' '0020600667'\n",
      " '0020600670' '0020600672' '0020600673' '0020600682' '0020700927'\n",
      " '0020700976' '0020701078' '0020800104' '0020800859' '0020801063'\n",
      " '0021000552' '0021001153' '0021201036' '0021201037' '0021201202'\n",
      " '0021201214' '0021300797' '0021400627' '0021500139' '0021500141'\n",
      " '0021500151' '0021600004' '0021700109' '0021701174' '0021800152'\n",
      " '0021800566' '0021800911' '0022000447' '0022100041' '0022100215'\n",
      " '0022100461' '0022100463' '0022100534' '0022100692' '0022101047'\n",
      " '0022101216' '0040800104' '0040800124' '0040800152' '0040800162'\n",
      " '0040800165' '0041700232' '0041800233']\n"
     ]
    }
   ],
   "source": [
    "team_advanced_boxscores_test = pd.read_sql('select * from team_advanced_boxscores', con)\n",
    "advanced_game_ids_test = team_advanced_boxscores_test['GAME_ID'].unique()\n",
    "\n",
    "missing_game_ids_test = np.setdiff1d(game_ids, advanced_game_ids_test)\n",
    "print(len(missing_game_ids_test))\n",
    "print(missing_game_ids_test)"
   ]
  },
  {
   "cell_type": "code",
   "execution_count": 48,
   "id": "1a8d28ba",
   "metadata": {},
   "outputs": [
    {
     "name": "stderr",
     "output_type": "stream",
     "text": [
      "  5%|▍         | 1/22 [00:00<00:12,  1.71it/s]"
     ]
    },
    {
     "name": "stdout",
     "output_type": "stream",
     "text": [
      "num_games_updated: 0\n",
      "All team advanced boxscores up to date in season 2000-01\n"
     ]
    },
    {
     "name": "stderr",
     "output_type": "stream",
     "text": [
      "\r",
      "  9%|▉         | 2/22 [00:01<00:10,  1.82it/s]"
     ]
    },
    {
     "name": "stdout",
     "output_type": "stream",
     "text": [
      "num_games_updated: 0\n",
      "All team advanced boxscores up to date in season 2001-02\n"
     ]
    },
    {
     "name": "stderr",
     "output_type": "stream",
     "text": [
      "\r",
      " 14%|█▎        | 3/22 [00:01<00:11,  1.59it/s]"
     ]
    },
    {
     "name": "stdout",
     "output_type": "stream",
     "text": [
      "num_games_updated: 0\n",
      "All team advanced boxscores up to date in season 2002-03\n"
     ]
    },
    {
     "name": "stderr",
     "output_type": "stream",
     "text": [
      "\n",
      "progress:   0%|          | 0/1 [00:00<?, ?it/s]\u001b[A"
     ]
    },
    {
     "name": "stdout",
     "output_type": "stream",
     "text": [
      "num_games_updated: 1\n"
     ]
    },
    {
     "name": "stderr",
     "output_type": "stream",
     "text": [
      "\n",
      "progress: 100%|██████████| 1/1 [00:00<00:00,  1.59it/s]\u001b[A\n",
      " 23%|██▎       | 5/22 [00:05<00:19,  1.14s/it]"
     ]
    },
    {
     "name": "stdout",
     "output_type": "stream",
     "text": [
      "num_games_updated: 0\n",
      "All team advanced boxscores up to date in season 2004-05\n"
     ]
    },
    {
     "name": "stderr",
     "output_type": "stream",
     "text": [
      "\r",
      " 27%|██▋       | 6/22 [00:05<00:14,  1.09it/s]"
     ]
    },
    {
     "name": "stdout",
     "output_type": "stream",
     "text": [
      "num_games_updated: 0\n",
      "All team advanced boxscores up to date in season 2005-06\n"
     ]
    },
    {
     "name": "stderr",
     "output_type": "stream",
     "text": [
      "\r",
      " 32%|███▏      | 7/22 [00:07<00:19,  1.27s/it]"
     ]
    },
    {
     "name": "stdout",
     "output_type": "stream",
     "text": [
      "num_games_updated: 0\n",
      "All team advanced boxscores up to date in season 2006-07\n"
     ]
    },
    {
     "name": "stderr",
     "output_type": "stream",
     "text": [
      "\r",
      " 36%|███▋      | 8/22 [00:07<00:14,  1.01s/it]"
     ]
    },
    {
     "name": "stdout",
     "output_type": "stream",
     "text": [
      "num_games_updated: 0\n",
      "All team advanced boxscores up to date in season 2007-08\n"
     ]
    },
    {
     "name": "stderr",
     "output_type": "stream",
     "text": [
      "\r",
      " 41%|████      | 9/22 [00:08<00:10,  1.19it/s]"
     ]
    },
    {
     "name": "stdout",
     "output_type": "stream",
     "text": [
      "num_games_updated: 0\n",
      "All team advanced boxscores up to date in season 2008-09\n"
     ]
    },
    {
     "name": "stderr",
     "output_type": "stream",
     "text": [
      "\r",
      " 45%|████▌     | 10/22 [00:08<00:09,  1.33it/s]"
     ]
    },
    {
     "name": "stdout",
     "output_type": "stream",
     "text": [
      "num_games_updated: 0\n",
      "All team advanced boxscores up to date in season 2009-10\n"
     ]
    },
    {
     "name": "stderr",
     "output_type": "stream",
     "text": [
      "\r",
      " 50%|█████     | 11/22 [00:10<00:10,  1.08it/s]"
     ]
    },
    {
     "name": "stdout",
     "output_type": "stream",
     "text": [
      "num_games_updated: 0\n",
      "All team advanced boxscores up to date in season 2010-11\n"
     ]
    },
    {
     "name": "stderr",
     "output_type": "stream",
     "text": [
      "\r",
      " 55%|█████▍    | 12/22 [00:11<00:09,  1.02it/s]"
     ]
    },
    {
     "name": "stdout",
     "output_type": "stream",
     "text": [
      "num_games_updated: 0\n",
      "All team advanced boxscores up to date in season 2011-12\n"
     ]
    },
    {
     "name": "stderr",
     "output_type": "stream",
     "text": [
      "\n",
      "progress:   0%|          | 0/1 [00:00<?, ?it/s]\u001b[A"
     ]
    },
    {
     "name": "stdout",
     "output_type": "stream",
     "text": [
      "num_games_updated: 1\n"
     ]
    },
    {
     "name": "stderr",
     "output_type": "stream",
     "text": [
      "\n",
      "progress: 100%|██████████| 1/1 [00:04<00:00,  4.23s/it]\u001b[A\n",
      " 64%|██████▎   | 14/22 [00:18<00:16,  2.08s/it]"
     ]
    },
    {
     "name": "stdout",
     "output_type": "stream",
     "text": [
      "num_games_updated: 0\n",
      "All team advanced boxscores up to date in season 2013-14\n"
     ]
    },
    {
     "name": "stderr",
     "output_type": "stream",
     "text": [
      "\r",
      " 68%|██████▊   | 15/22 [00:18<00:11,  1.59s/it]"
     ]
    },
    {
     "name": "stdout",
     "output_type": "stream",
     "text": [
      "num_games_updated: 0\n",
      "All team advanced boxscores up to date in season 2014-15\n"
     ]
    },
    {
     "name": "stderr",
     "output_type": "stream",
     "text": [
      "\r",
      " 73%|███████▎  | 16/22 [00:19<00:07,  1.28s/it]"
     ]
    },
    {
     "name": "stdout",
     "output_type": "stream",
     "text": [
      "num_games_updated: 0\n",
      "All team advanced boxscores up to date in season 2015-16\n"
     ]
    },
    {
     "name": "stderr",
     "output_type": "stream",
     "text": [
      "\r",
      " 77%|███████▋  | 17/22 [00:20<00:06,  1.21s/it]"
     ]
    },
    {
     "name": "stdout",
     "output_type": "stream",
     "text": [
      "num_games_updated: 0\n",
      "All team advanced boxscores up to date in season 2016-17\n"
     ]
    },
    {
     "name": "stderr",
     "output_type": "stream",
     "text": [
      "\r",
      " 82%|████████▏ | 18/22 [00:21<00:04,  1.24s/it]"
     ]
    },
    {
     "name": "stdout",
     "output_type": "stream",
     "text": [
      "num_games_updated: 0\n",
      "All team advanced boxscores up to date in season 2017-18\n"
     ]
    },
    {
     "name": "stderr",
     "output_type": "stream",
     "text": [
      "\r",
      " 86%|████████▋ | 19/22 [00:22<00:03,  1.21s/it]"
     ]
    },
    {
     "name": "stdout",
     "output_type": "stream",
     "text": [
      "num_games_updated: 0\n",
      "All team advanced boxscores up to date in season 2018-19\n"
     ]
    },
    {
     "name": "stderr",
     "output_type": "stream",
     "text": [
      "\r",
      " 91%|█████████ | 20/22 [00:23<00:02,  1.02s/it]"
     ]
    },
    {
     "name": "stdout",
     "output_type": "stream",
     "text": [
      "num_games_updated: 0\n",
      "All team advanced boxscores up to date in season 2019-20\n"
     ]
    },
    {
     "name": "stderr",
     "output_type": "stream",
     "text": [
      "\r",
      " 95%|█████████▌| 21/22 [00:25<00:01,  1.21s/it]"
     ]
    },
    {
     "name": "stdout",
     "output_type": "stream",
     "text": [
      "num_games_updated: 0\n",
      "All team advanced boxscores up to date in season 2020-21\n"
     ]
    },
    {
     "name": "stderr",
     "output_type": "stream",
     "text": [
      "\n",
      "progress:   0%|          | 0/1 [00:00<?, ?it/s]\u001b[A"
     ]
    },
    {
     "name": "stdout",
     "output_type": "stream",
     "text": [
      "num_games_updated: 1\n"
     ]
    },
    {
     "name": "stderr",
     "output_type": "stream",
     "text": [
      "\n",
      "progress: 100%|██████████| 1/1 [00:02<00:00,  2.15s/it]\u001b[A\n",
      "100%|██████████| 22/22 [00:28<00:00,  1.28s/it]"
     ]
    },
    {
     "name": "stdout",
     "output_type": "stream",
     "text": [
      "remaining missing game_ids:  1\n"
     ]
    },
    {
     "name": "stderr",
     "output_type": "stream",
     "text": [
      "\n"
     ]
    }
   ],
   "source": [
    "#pull missing game_ids data\n",
    "final_missing_game_ids = []\n",
    "for season in tqdm(range(2000, 2022)):\n",
    "    missing_game_ids = update_team_advanced_boxscores(con, season, [])\n",
    "    if missing_game_ids is not None:\n",
    "        final_missing_game_ids.extend(missing_game_ids)\n",
    "    \n",
    "print('remaining missing game_ids: ', len(final_missing_game_ids))"
   ]
  },
  {
   "cell_type": "code",
   "execution_count": 49,
   "id": "cecb6bad",
   "metadata": {},
   "outputs": [
    {
     "name": "stdout",
     "output_type": "stream",
     "text": [
      "2\n",
      "['0020300778' '0021201214']\n"
     ]
    }
   ],
   "source": [
    "team_advanced_boxscores_test = pd.read_sql('select * from team_advanced_boxscores', con)\n",
    "advanced_game_ids_test = team_advanced_boxscores_test['GAME_ID'].unique()\n",
    "\n",
    "missing_game_ids_test = np.setdiff1d(game_ids, advanced_game_ids_test)\n",
    "print(len(missing_game_ids_test))\n",
    "print(missing_game_ids_test)"
   ]
  },
  {
   "cell_type": "code",
   "execution_count": 43,
   "id": "8ebd56cd",
   "metadata": {},
   "outputs": [
    {
     "data": {
      "text/html": [
       "<div>\n",
       "<style scoped>\n",
       "    .dataframe tbody tr th:only-of-type {\n",
       "        vertical-align: middle;\n",
       "    }\n",
       "\n",
       "    .dataframe tbody tr th {\n",
       "        vertical-align: top;\n",
       "    }\n",
       "\n",
       "    .dataframe thead th {\n",
       "        text-align: right;\n",
       "    }\n",
       "</style>\n",
       "<table border=\"1\" class=\"dataframe\">\n",
       "  <thead>\n",
       "    <tr style=\"text-align: right;\">\n",
       "      <th></th>\n",
       "      <th>GAME_ID</th>\n",
       "      <th>TEAM_ID</th>\n",
       "      <th>TEAM_NAME</th>\n",
       "      <th>TEAM_ABBREVIATION</th>\n",
       "      <th>TEAM_CITY</th>\n",
       "      <th>MIN</th>\n",
       "      <th>E_OFF_RATING</th>\n",
       "      <th>OFF_RATING</th>\n",
       "      <th>E_DEF_RATING</th>\n",
       "      <th>DEF_RATING</th>\n",
       "      <th>...</th>\n",
       "      <th>TM_TOV_PCT</th>\n",
       "      <th>EFG_PCT</th>\n",
       "      <th>TS_PCT</th>\n",
       "      <th>USG_PCT</th>\n",
       "      <th>E_USG_PCT</th>\n",
       "      <th>E_PACE</th>\n",
       "      <th>PACE</th>\n",
       "      <th>PACE_PER40</th>\n",
       "      <th>POSS</th>\n",
       "      <th>PIE</th>\n",
       "    </tr>\n",
       "  </thead>\n",
       "  <tbody>\n",
       "  </tbody>\n",
       "</table>\n",
       "<p>0 rows × 29 columns</p>\n",
       "</div>"
      ],
      "text/plain": [
       "Empty DataFrame\n",
       "Columns: [GAME_ID, TEAM_ID, TEAM_NAME, TEAM_ABBREVIATION, TEAM_CITY, MIN, E_OFF_RATING, OFF_RATING, E_DEF_RATING, DEF_RATING, E_NET_RATING, NET_RATING, AST_PCT, AST_TOV, AST_RATIO, OREB_PCT, DREB_PCT, REB_PCT, E_TM_TOV_PCT, TM_TOV_PCT, EFG_PCT, TS_PCT, USG_PCT, E_USG_PCT, E_PACE, PACE, PACE_PER40, POSS, PIE]\n",
       "Index: []\n",
       "\n",
       "[0 rows x 29 columns]"
      ]
     },
     "execution_count": 43,
     "metadata": {},
     "output_type": "execute_result"
    }
   ],
   "source": [
    "team_advanced_boxscores[team_advanced_boxscores['GAME_ID']=='0021201214']"
   ]
  },
  {
   "cell_type": "code",
   "execution_count": 55,
   "id": "0a988dba",
   "metadata": {},
   "outputs": [
    {
     "data": {
      "text/html": [
       "<div>\n",
       "<style scoped>\n",
       "    .dataframe tbody tr th:only-of-type {\n",
       "        vertical-align: middle;\n",
       "    }\n",
       "\n",
       "    .dataframe tbody tr th {\n",
       "        vertical-align: top;\n",
       "    }\n",
       "\n",
       "    .dataframe thead th {\n",
       "        text-align: right;\n",
       "    }\n",
       "</style>\n",
       "<table border=\"1\" class=\"dataframe\">\n",
       "  <thead>\n",
       "    <tr style=\"text-align: right;\">\n",
       "      <th></th>\n",
       "      <th>GAME_ID</th>\n",
       "      <th>TEAM_ID</th>\n",
       "      <th>TEAM_NAME</th>\n",
       "      <th>TEAM_ABBREVIATION</th>\n",
       "      <th>TEAM_CITY</th>\n",
       "      <th>MIN</th>\n",
       "      <th>E_OFF_RATING</th>\n",
       "      <th>OFF_RATING</th>\n",
       "      <th>E_DEF_RATING</th>\n",
       "      <th>DEF_RATING</th>\n",
       "      <th>...</th>\n",
       "      <th>TM_TOV_PCT</th>\n",
       "      <th>EFG_PCT</th>\n",
       "      <th>TS_PCT</th>\n",
       "      <th>USG_PCT</th>\n",
       "      <th>E_USG_PCT</th>\n",
       "      <th>E_PACE</th>\n",
       "      <th>PACE</th>\n",
       "      <th>PACE_PER40</th>\n",
       "      <th>POSS</th>\n",
       "      <th>PIE</th>\n",
       "    </tr>\n",
       "  </thead>\n",
       "  <tbody>\n",
       "    <tr>\n",
       "      <th>0</th>\n",
       "      <td>0022100002</td>\n",
       "      <td>1610612747</td>\n",
       "      <td>Lakers</td>\n",
       "      <td>LAL</td>\n",
       "      <td>Los Angeles</td>\n",
       "      <td>240:00</td>\n",
       "      <td>98.0</td>\n",
       "      <td>101.8</td>\n",
       "      <td>106.0</td>\n",
       "      <td>107.1</td>\n",
       "      <td>...</td>\n",
       "      <td>16.1</td>\n",
       "      <td>0.553</td>\n",
       "      <td>0.551</td>\n",
       "      <td>1.0</td>\n",
       "      <td>0.198</td>\n",
       "      <td>115.28</td>\n",
       "      <td>112.5</td>\n",
       "      <td>93.75</td>\n",
       "      <td>112.0</td>\n",
       "      <td>0.422</td>\n",
       "    </tr>\n",
       "    <tr>\n",
       "      <th>1</th>\n",
       "      <td>0022100002</td>\n",
       "      <td>1610612744</td>\n",
       "      <td>Warriors</td>\n",
       "      <td>GSW</td>\n",
       "      <td>Golden State</td>\n",
       "      <td>240:00</td>\n",
       "      <td>106.0</td>\n",
       "      <td>107.1</td>\n",
       "      <td>98.0</td>\n",
       "      <td>101.8</td>\n",
       "      <td>...</td>\n",
       "      <td>15.0</td>\n",
       "      <td>0.516</td>\n",
       "      <td>0.570</td>\n",
       "      <td>1.0</td>\n",
       "      <td>0.200</td>\n",
       "      <td>115.28</td>\n",
       "      <td>112.5</td>\n",
       "      <td>93.75</td>\n",
       "      <td>113.0</td>\n",
       "      <td>0.578</td>\n",
       "    </tr>\n",
       "    <tr>\n",
       "      <th>2</th>\n",
       "      <td>0022100001</td>\n",
       "      <td>1610612749</td>\n",
       "      <td>Bucks</td>\n",
       "      <td>MIL</td>\n",
       "      <td>Milwaukee</td>\n",
       "      <td>240:00</td>\n",
       "      <td>117.7</td>\n",
       "      <td>124.5</td>\n",
       "      <td>101.8</td>\n",
       "      <td>102.0</td>\n",
       "      <td>...</td>\n",
       "      <td>7.8</td>\n",
       "      <td>0.538</td>\n",
       "      <td>0.562</td>\n",
       "      <td>1.0</td>\n",
       "      <td>0.194</td>\n",
       "      <td>105.02</td>\n",
       "      <td>102.0</td>\n",
       "      <td>85.00</td>\n",
       "      <td>102.0</td>\n",
       "      <td>0.593</td>\n",
       "    </tr>\n",
       "    <tr>\n",
       "      <th>3</th>\n",
       "      <td>0022100001</td>\n",
       "      <td>1610612751</td>\n",
       "      <td>Nets</td>\n",
       "      <td>BKN</td>\n",
       "      <td>Brooklyn</td>\n",
       "      <td>240:00</td>\n",
       "      <td>101.8</td>\n",
       "      <td>102.0</td>\n",
       "      <td>117.7</td>\n",
       "      <td>124.5</td>\n",
       "      <td>...</td>\n",
       "      <td>12.7</td>\n",
       "      <td>0.542</td>\n",
       "      <td>0.552</td>\n",
       "      <td>1.0</td>\n",
       "      <td>0.200</td>\n",
       "      <td>105.02</td>\n",
       "      <td>102.0</td>\n",
       "      <td>85.00</td>\n",
       "      <td>102.0</td>\n",
       "      <td>0.407</td>\n",
       "    </tr>\n",
       "    <tr>\n",
       "      <th>4</th>\n",
       "      <td>0022100003</td>\n",
       "      <td>1610612754</td>\n",
       "      <td>Pacers</td>\n",
       "      <td>IND</td>\n",
       "      <td>Indiana</td>\n",
       "      <td>240:00</td>\n",
       "      <td>111.4</td>\n",
       "      <td>114.0</td>\n",
       "      <td>107.1</td>\n",
       "      <td>116.0</td>\n",
       "      <td>...</td>\n",
       "      <td>15.9</td>\n",
       "      <td>0.561</td>\n",
       "      <td>0.607</td>\n",
       "      <td>1.0</td>\n",
       "      <td>0.199</td>\n",
       "      <td>112.22</td>\n",
       "      <td>106.5</td>\n",
       "      <td>88.75</td>\n",
       "      <td>107.0</td>\n",
       "      <td>0.520</td>\n",
       "    </tr>\n",
       "    <tr>\n",
       "      <th>...</th>\n",
       "      <td>...</td>\n",
       "      <td>...</td>\n",
       "      <td>...</td>\n",
       "      <td>...</td>\n",
       "      <td>...</td>\n",
       "      <td>...</td>\n",
       "      <td>...</td>\n",
       "      <td>...</td>\n",
       "      <td>...</td>\n",
       "      <td>...</td>\n",
       "      <td>...</td>\n",
       "      <td>...</td>\n",
       "      <td>...</td>\n",
       "      <td>...</td>\n",
       "      <td>...</td>\n",
       "      <td>...</td>\n",
       "      <td>...</td>\n",
       "      <td>...</td>\n",
       "      <td>...</td>\n",
       "      <td>...</td>\n",
       "      <td>...</td>\n",
       "    </tr>\n",
       "    <tr>\n",
       "      <th>56301</th>\n",
       "      <td>0022100534</td>\n",
       "      <td>1610612746</td>\n",
       "      <td>Clippers</td>\n",
       "      <td>LAC</td>\n",
       "      <td>LA</td>\n",
       "      <td>240:00</td>\n",
       "      <td>112.1</td>\n",
       "      <td>113.7</td>\n",
       "      <td>116.6</td>\n",
       "      <td>118.4</td>\n",
       "      <td>...</td>\n",
       "      <td>13.7</td>\n",
       "      <td>0.583</td>\n",
       "      <td>0.625</td>\n",
       "      <td>1.0</td>\n",
       "      <td>0.199</td>\n",
       "      <td>97.94</td>\n",
       "      <td>96.5</td>\n",
       "      <td>80.42</td>\n",
       "      <td>95.0</td>\n",
       "      <td>0.500</td>\n",
       "    </tr>\n",
       "    <tr>\n",
       "      <th>56302</th>\n",
       "      <td>0022100463</td>\n",
       "      <td>1610612759</td>\n",
       "      <td>Spurs</td>\n",
       "      <td>SAS</td>\n",
       "      <td>San Antonio</td>\n",
       "      <td>240:00</td>\n",
       "      <td>109.8</td>\n",
       "      <td>113.7</td>\n",
       "      <td>90.4</td>\n",
       "      <td>91.1</td>\n",
       "      <td>...</td>\n",
       "      <td>11.8</td>\n",
       "      <td>0.491</td>\n",
       "      <td>0.497</td>\n",
       "      <td>1.0</td>\n",
       "      <td>0.197</td>\n",
       "      <td>103.72</td>\n",
       "      <td>101.5</td>\n",
       "      <td>84.58</td>\n",
       "      <td>102.0</td>\n",
       "      <td>0.642</td>\n",
       "    </tr>\n",
       "    <tr>\n",
       "      <th>56303</th>\n",
       "      <td>0022100463</td>\n",
       "      <td>1610612746</td>\n",
       "      <td>Clippers</td>\n",
       "      <td>LAC</td>\n",
       "      <td>LA</td>\n",
       "      <td>240:00</td>\n",
       "      <td>90.4</td>\n",
       "      <td>91.1</td>\n",
       "      <td>109.8</td>\n",
       "      <td>113.7</td>\n",
       "      <td>...</td>\n",
       "      <td>14.9</td>\n",
       "      <td>0.443</td>\n",
       "      <td>0.480</td>\n",
       "      <td>1.0</td>\n",
       "      <td>0.199</td>\n",
       "      <td>103.72</td>\n",
       "      <td>101.5</td>\n",
       "      <td>84.58</td>\n",
       "      <td>101.0</td>\n",
       "      <td>0.358</td>\n",
       "    </tr>\n",
       "    <tr>\n",
       "      <th>56304</th>\n",
       "      <td>0042100405</td>\n",
       "      <td>1610612744</td>\n",
       "      <td>Warriors</td>\n",
       "      <td>GSW</td>\n",
       "      <td>Golden State</td>\n",
       "      <td>240:00</td>\n",
       "      <td>106.6</td>\n",
       "      <td>107.2</td>\n",
       "      <td>95.3</td>\n",
       "      <td>95.9</td>\n",
       "      <td>...</td>\n",
       "      <td>7.2</td>\n",
       "      <td>0.517</td>\n",
       "      <td>0.550</td>\n",
       "      <td>1.0</td>\n",
       "      <td>0.197</td>\n",
       "      <td>98.12</td>\n",
       "      <td>97.5</td>\n",
       "      <td>81.25</td>\n",
       "      <td>97.0</td>\n",
       "      <td>0.563</td>\n",
       "    </tr>\n",
       "    <tr>\n",
       "      <th>56305</th>\n",
       "      <td>0042100405</td>\n",
       "      <td>1610612738</td>\n",
       "      <td>Celtics</td>\n",
       "      <td>BOS</td>\n",
       "      <td>Boston</td>\n",
       "      <td>240:00</td>\n",
       "      <td>95.3</td>\n",
       "      <td>95.9</td>\n",
       "      <td>106.6</td>\n",
       "      <td>107.2</td>\n",
       "      <td>...</td>\n",
       "      <td>18.4</td>\n",
       "      <td>0.487</td>\n",
       "      <td>0.530</td>\n",
       "      <td>1.0</td>\n",
       "      <td>0.201</td>\n",
       "      <td>98.12</td>\n",
       "      <td>97.5</td>\n",
       "      <td>81.25</td>\n",
       "      <td>98.0</td>\n",
       "      <td>0.438</td>\n",
       "    </tr>\n",
       "  </tbody>\n",
       "</table>\n",
       "<p>56306 rows × 29 columns</p>\n",
       "</div>"
      ],
      "text/plain": [
       "          GAME_ID     TEAM_ID TEAM_NAME TEAM_ABBREVIATION     TEAM_CITY  \\\n",
       "0      0022100002  1610612747    Lakers               LAL   Los Angeles   \n",
       "1      0022100002  1610612744  Warriors               GSW  Golden State   \n",
       "2      0022100001  1610612749     Bucks               MIL     Milwaukee   \n",
       "3      0022100001  1610612751      Nets               BKN      Brooklyn   \n",
       "4      0022100003  1610612754    Pacers               IND       Indiana   \n",
       "...           ...         ...       ...               ...           ...   \n",
       "56301  0022100534  1610612746  Clippers               LAC            LA   \n",
       "56302  0022100463  1610612759     Spurs               SAS   San Antonio   \n",
       "56303  0022100463  1610612746  Clippers               LAC            LA   \n",
       "56304  0042100405  1610612744  Warriors               GSW  Golden State   \n",
       "56305  0042100405  1610612738   Celtics               BOS        Boston   \n",
       "\n",
       "          MIN  E_OFF_RATING  OFF_RATING  E_DEF_RATING  DEF_RATING  ...  \\\n",
       "0      240:00          98.0       101.8         106.0       107.1  ...   \n",
       "1      240:00         106.0       107.1          98.0       101.8  ...   \n",
       "2      240:00         117.7       124.5         101.8       102.0  ...   \n",
       "3      240:00         101.8       102.0         117.7       124.5  ...   \n",
       "4      240:00         111.4       114.0         107.1       116.0  ...   \n",
       "...       ...           ...         ...           ...         ...  ...   \n",
       "56301  240:00         112.1       113.7         116.6       118.4  ...   \n",
       "56302  240:00         109.8       113.7          90.4        91.1  ...   \n",
       "56303  240:00          90.4        91.1         109.8       113.7  ...   \n",
       "56304  240:00         106.6       107.2          95.3        95.9  ...   \n",
       "56305  240:00          95.3        95.9         106.6       107.2  ...   \n",
       "\n",
       "       TM_TOV_PCT  EFG_PCT  TS_PCT  USG_PCT  E_USG_PCT  E_PACE   PACE  \\\n",
       "0            16.1    0.553   0.551      1.0      0.198  115.28  112.5   \n",
       "1            15.0    0.516   0.570      1.0      0.200  115.28  112.5   \n",
       "2             7.8    0.538   0.562      1.0      0.194  105.02  102.0   \n",
       "3            12.7    0.542   0.552      1.0      0.200  105.02  102.0   \n",
       "4            15.9    0.561   0.607      1.0      0.199  112.22  106.5   \n",
       "...           ...      ...     ...      ...        ...     ...    ...   \n",
       "56301        13.7    0.583   0.625      1.0      0.199   97.94   96.5   \n",
       "56302        11.8    0.491   0.497      1.0      0.197  103.72  101.5   \n",
       "56303        14.9    0.443   0.480      1.0      0.199  103.72  101.5   \n",
       "56304         7.2    0.517   0.550      1.0      0.197   98.12   97.5   \n",
       "56305        18.4    0.487   0.530      1.0      0.201   98.12   97.5   \n",
       "\n",
       "       PACE_PER40   POSS    PIE  \n",
       "0           93.75  112.0  0.422  \n",
       "1           93.75  113.0  0.578  \n",
       "2           85.00  102.0  0.593  \n",
       "3           85.00  102.0  0.407  \n",
       "4           88.75  107.0  0.520  \n",
       "...           ...    ...    ...  \n",
       "56301       80.42   95.0  0.500  \n",
       "56302       84.58  102.0  0.642  \n",
       "56303       84.58  101.0  0.358  \n",
       "56304       81.25   97.0  0.563  \n",
       "56305       81.25   98.0  0.438  \n",
       "\n",
       "[56306 rows x 29 columns]"
      ]
     },
     "execution_count": 55,
     "metadata": {},
     "output_type": "execute_result"
    }
   ],
   "source": [
    "team_advanced_boxscores_df = pd.read_sql('select * from team_advanced_boxscores', con)\n",
    "team_advanced_boxscores_df"
   ]
  },
  {
   "cell_type": "code",
   "execution_count": 56,
   "id": "c969fd6d",
   "metadata": {},
   "outputs": [],
   "source": [
    "#team_basic_boxscores_df.to_csv('team_basic_boxscores.csv', mode='w+')\n",
    "team_advanced_boxscores_df.to_csv('team_advanced_boxscores.csv', mode='w+')"
   ]
  },
  {
   "cell_type": "code",
   "execution_count": 62,
   "id": "7eef0c53",
   "metadata": {},
   "outputs": [
    {
     "data": {
      "text/plain": [
       "Index(['SEASON', 'TEAM_ID', 'TEAM_ABBREVIATION_x', 'TEAM_NAME_x', 'GAME_ID',\n",
       "       'GAME_DATE', 'MATCHUP', 'WL', 'MIN_x', 'FGM', 'FGA', 'FG_PCT', 'FG3M',\n",
       "       'FG3A', 'FG3_PCT', 'FTM', 'FTA', 'FT_PCT', 'OREB', 'DREB', 'REB', 'AST',\n",
       "       'STL', 'BLK', 'TOV', 'PF', 'PTS', 'PLUS_MINUS', 'TEAM_NAME_y',\n",
       "       'TEAM_ABBREVIATION_y', 'TEAM_CITY', 'MIN_y', 'E_OFF_RATING',\n",
       "       'OFF_RATING', 'E_DEF_RATING', 'DEF_RATING', 'E_NET_RATING',\n",
       "       'NET_RATING', 'AST_PCT', 'AST_TOV', 'AST_RATIO', 'OREB_PCT', 'DREB_PCT',\n",
       "       'REB_PCT', 'E_TM_TOV_PCT', 'TM_TOV_PCT', 'EFG_PCT', 'TS_PCT', 'USG_PCT',\n",
       "       'E_USG_PCT', 'E_PACE', 'PACE', 'PACE_PER40', 'POSS', 'PIE'],\n",
       "      dtype='object')"
      ]
     },
     "execution_count": 62,
     "metadata": {},
     "output_type": "execute_result"
    }
   ],
   "source": [
    "team_boxscores_df = team_basic_boxscores_df.merge(team_advanced_boxscores_df, how='inner', on=['GAME_ID', 'TEAM_ID'])\n",
    "team_boxscores_df.columns"
   ]
  }
 ],
 "metadata": {
  "kernelspec": {
   "display_name": "Python 3",
   "language": "python",
   "name": "python3"
  },
  "language_info": {
   "codemirror_mode": {
    "name": "ipython",
    "version": 3
   },
   "file_extension": ".py",
   "mimetype": "text/x-python",
   "name": "python",
   "nbconvert_exporter": "python",
   "pygments_lexer": "ipython3",
   "version": "3.8.8"
  }
 },
 "nbformat": 4,
 "nbformat_minor": 5
}
